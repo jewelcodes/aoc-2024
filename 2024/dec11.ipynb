{
 "cells": [
  {
   "cell_type": "markdown",
   "metadata": {},
   "source": [
    "# Dec 11 – Problem 1"
   ]
  },
  {
   "cell_type": "code",
   "execution_count": 1,
   "metadata": {},
   "outputs": [],
   "source": [
    "from collections import defaultdict\n",
    "\n",
    "with open(\"inputs/dec11.txt\") as f:\n",
    "    raw_data = f.read()"
   ]
  },
  {
   "cell_type": "code",
   "execution_count": 2,
   "metadata": {},
   "outputs": [],
   "source": [
    "numbers = [int(n) for n in raw_data.split(\" \")]"
   ]
  },
  {
   "cell_type": "code",
   "execution_count": 3,
   "metadata": {},
   "outputs": [],
   "source": [
    "def digit_count(n: int) -> int:\n",
    "    return len(str(n))"
   ]
  },
  {
   "cell_type": "code",
   "execution_count": 4,
   "metadata": {},
   "outputs": [],
   "source": [
    "def cycle(stones: list, count: int) -> int:\n",
    "    counter = defaultdict(int)\n",
    "    for n in stones:\n",
    "        counter[n] += 1\n",
    "    \n",
    "    for i in range(count):\n",
    "        new_counter = defaultdict(int)\n",
    "        for k, v in counter.items():\n",
    "            if k == 0:\n",
    "                new_counter[1] += v\n",
    "            elif digit_count(k) % 2 == 0:\n",
    "                n_str = str(k)\n",
    "                n1 = int(n_str[:int(len(n_str)/2)])\n",
    "                n2 = int(n_str[int(len(n_str)/2):])\n",
    "                new_counter[n1] += v\n",
    "                new_counter[n2] += v\n",
    "            else:\n",
    "                new_counter[k * 2024] += v\n",
    "            \n",
    "        counter = new_counter\n",
    "\n",
    "    return sum(counter.values())"
   ]
  },
  {
   "cell_type": "code",
   "execution_count": 5,
   "metadata": {},
   "outputs": [
    {
     "name": "stdout",
     "output_type": "stream",
     "text": [
      "185894\n"
     ]
    }
   ],
   "source": [
    "count = cycle(numbers, 25)\n",
    "print(count)"
   ]
  },
  {
   "cell_type": "markdown",
   "metadata": {},
   "source": [
    "# Dec 11 – Problem 2\n",
    "This part took under a fraction of a second and is lowkey one of my proudest works yet"
   ]
  },
  {
   "cell_type": "code",
   "execution_count": 6,
   "metadata": {},
   "outputs": [
    {
     "name": "stdout",
     "output_type": "stream",
     "text": [
      "221632504974231\n"
     ]
    }
   ],
   "source": [
    "count = cycle(numbers, 75)\n",
    "print(count)"
   ]
  }
 ],
 "metadata": {
  "kernelspec": {
   "display_name": "Python 3",
   "language": "python",
   "name": "python3"
  },
  "language_info": {
   "codemirror_mode": {
    "name": "ipython",
    "version": 3
   },
   "file_extension": ".py",
   "mimetype": "text/x-python",
   "name": "python",
   "nbconvert_exporter": "python",
   "pygments_lexer": "ipython3",
   "version": "3.12.1"
  }
 },
 "nbformat": 4,
 "nbformat_minor": 2
}
