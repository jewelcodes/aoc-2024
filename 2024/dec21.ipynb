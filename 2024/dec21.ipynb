{
 "cells": [
  {
   "cell_type": "markdown",
   "metadata": {},
   "source": [
    "# Dec 21 – Problem 1"
   ]
  },
  {
   "cell_type": "code",
   "execution_count": 1,
   "metadata": {},
   "outputs": [],
   "source": [
    "with open(\"inputs/dec21.txt\") as f:\n",
    "    raw_data = f.read()"
   ]
  },
  {
   "cell_type": "code",
   "execution_count": 2,
   "metadata": {},
   "outputs": [],
   "source": [
    "dirpad = [\n",
    "    \" \", \"^\", \"A\",\n",
    "    \"<\", \"v\", \">\"\n",
    "]\n",
    "\n",
    "numpad = [\n",
    "    \"7\", \"8\", \"9\",\n",
    "    \"4\", \"5\", \"6\",\n",
    "    \"1\", \"2\", \"3\",\n",
    "    \" \", \"0\", \"A\"\n",
    "]"
   ]
  },
  {
   "cell_type": "code",
   "execution_count": 3,
   "metadata": {},
   "outputs": [],
   "source": [
    "def get_key(keypad: list, key: str) -> tuple:\n",
    "    x, y = keypad.index(key) % 3, keypad.index(key) // 3\n",
    "    return (x, y)"
   ]
  },
  {
   "cell_type": "code",
   "execution_count": 4,
   "metadata": {},
   "outputs": [],
   "source": [
    "cost_cache = []\n",
    "positions = dict()\n",
    "\n",
    "def solve_dirpad(seq: list, depth: int, recurse: bool=False) -> int:\n",
    "    if depth == 0: return len(seq)\n",
    "    global cost_cache, positions\n",
    "\n",
    "    if not recurse:\n",
    "        positions = dict()\n",
    "        cost_cache = dict()\n",
    "        for i in range(1, depth+1): cost_cache[i] = dict()\n",
    "\n",
    "    if depth not in positions:\n",
    "        positions[depth] = (2, 0)   # dirpad start point\n",
    "    x, y = positions[depth]\n",
    "\n",
    "    total_cost = 0\n",
    "\n",
    "    for button in seq:\n",
    "        bx, by = get_key(dirpad, button)\n",
    "        if (x, y, bx, by) in cost_cache[depth]:\n",
    "            total_cost += cost_cache[depth][(x, y, bx, by)]\n",
    "            x, y = bx, by\n",
    "            positions[depth] = (x, y)\n",
    "            continue\n",
    "\n",
    "        ox, oy = x, y\n",
    "        if bx > x: dx = 1\n",
    "        elif bx < x: dx = -1\n",
    "        else: dx = 0\n",
    "\n",
    "        if by > y: dy = 1\n",
    "        elif by < y: dy = -1\n",
    "        else: dy = 0\n",
    "\n",
    "        gap = (y == 0 and bx == 0) or (x == 0 and by == 0)\n",
    "        left = (dx < 0)\n",
    "        cost = 0\n",
    "\n",
    "        while x != bx or y != by:\n",
    "            ny = y + dy\n",
    "            if x == bx or left == gap:\n",
    "                if y != by and dy != 0 and dirpad[ny*3+x] != \" \":\n",
    "                    y = ny\n",
    "                    move = [\"^\"] if dy < 0 else [\"v\"]\n",
    "                    cost += solve_dirpad(move, depth-1, recurse=True)\n",
    "                    continue    # prioritize vertical\n",
    "\n",
    "            nx = x + dx\n",
    "            if x != bx and dx != 0 and dirpad[y*3+nx] != \" \":\n",
    "                x = nx\n",
    "                move = [\"<\"] if dx < 0 else [\">\"]\n",
    "                cost += solve_dirpad(move,  depth-1, recurse=True)\n",
    "\n",
    "        cost += solve_dirpad([\"A\"], depth-1, recurse=True)\n",
    "        if not cost: cost = 1\n",
    "        total_cost += cost\n",
    "\n",
    "        cost_cache[depth][(ox, oy, bx, by)] = cost\n",
    "        positions[depth] = (x, y)\n",
    "\n",
    "    return total_cost"
   ]
  },
  {
   "cell_type": "code",
   "execution_count": 5,
   "metadata": {},
   "outputs": [],
   "source": [
    "def solve(numbers: str, levels: int) -> list:\n",
    "    x, y = 2, 3 # numpad start point\n",
    "    seq = []\n",
    "\n",
    "    for n in numbers:\n",
    "        bx, by = get_key(numpad, n)\n",
    "        if bx > x: dx = 1\n",
    "        elif bx < x: dx = -1\n",
    "        else: dx = 0\n",
    "\n",
    "        if by > y: dy = 1\n",
    "        elif by < y: dy = -1\n",
    "        else: dy = 0\n",
    "\n",
    "        gap = (x == 0 and by == 3) or (y == 3 and bx == 0)\n",
    "        left = (dx < 0)\n",
    "\n",
    "        while x != bx or y != by:\n",
    "            ny = y + dy\n",
    "            if x == bx or left == gap:\n",
    "                if y != by and dy != 0 and numpad[ny*3+x] != \" \":\n",
    "                    y = ny\n",
    "                    seq += [\"^\"] if dy < 0 else [\"v\"]\n",
    "                    continue\n",
    "\n",
    "            nx = x + dx\n",
    "            if x != bx and dx != 0 and numpad[y*3+nx] != \" \":\n",
    "                x = nx\n",
    "                seq += [\"<\"] if dx < 0 else [\">\"]\n",
    "\n",
    "        seq += [\"A\"]\n",
    "\n",
    "    if not levels: return len(seq)\n",
    "    return solve_dirpad(seq, levels)"
   ]
  },
  {
   "cell_type": "code",
   "execution_count": 6,
   "metadata": {},
   "outputs": [
    {
     "name": "stdout",
     "output_type": "stream",
     "text": [
      "128962\n"
     ]
    }
   ],
   "source": [
    "complexity = 0\n",
    "for number in raw_data.split(\"\\n\"):\n",
    "    complexity += solve(number, 2) * int(number[:3])\n",
    "\n",
    "print(complexity)"
   ]
  },
  {
   "cell_type": "markdown",
   "metadata": {},
   "source": [
    "# Dec 21 – Problem 2\n",
    "once again another piece of work I'm really proud of because it runs in under a fraction of a second"
   ]
  },
  {
   "cell_type": "code",
   "execution_count": 7,
   "metadata": {},
   "outputs": [
    {
     "name": "stdout",
     "output_type": "stream",
     "text": [
      "159684145150108\n"
     ]
    }
   ],
   "source": [
    "complexity = 0\n",
    "for number in raw_data.split(\"\\n\"):\n",
    "    complexity += solve(number, 25) * int(number[:3])\n",
    "\n",
    "print(complexity)"
   ]
  }
 ],
 "metadata": {
  "kernelspec": {
   "display_name": "Python 3",
   "language": "python",
   "name": "python3"
  },
  "language_info": {
   "codemirror_mode": {
    "name": "ipython",
    "version": 3
   },
   "file_extension": ".py",
   "mimetype": "text/x-python",
   "name": "python",
   "nbconvert_exporter": "python",
   "pygments_lexer": "ipython3",
   "version": "3.12.1"
  }
 },
 "nbformat": 4,
 "nbformat_minor": 2
}
