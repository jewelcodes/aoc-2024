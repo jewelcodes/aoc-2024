{
 "cells": [
  {
   "cell_type": "markdown",
   "metadata": {},
   "source": [
    "# Dec 25 – Problem 1\n",
    "merry christmas :)"
   ]
  },
  {
   "cell_type": "code",
   "execution_count": 1,
   "metadata": {},
   "outputs": [],
   "source": [
    "with open(\"inputs/dec25.txt\") as f:\n",
    "    raw_data = f.read()"
   ]
  },
  {
   "cell_type": "code",
   "execution_count": 2,
   "metadata": {},
   "outputs": [],
   "source": [
    "width = len(raw_data.split(\"\\n\")[0])\n",
    "height = len(raw_data.split(\"\\n\\n\")[0].split(\"\\n\"))\n",
    "keys, locks = [], []\n",
    "\n",
    "for item in raw_data.split(\"\\n\\n\"):\n",
    "    pins = [c for c in item if c != \"\\n\"]\n",
    "    pin_count = [-1] * width\n",
    "\n",
    "    for i in range(width*height):\n",
    "        if pins[i] == \"#\": pin_count[i % width] += 1\n",
    "    \n",
    "    if pins[0] == \"#\": locks.append(pin_count)\n",
    "    else: keys.append(pin_count)"
   ]
  },
  {
   "cell_type": "code",
   "execution_count": 3,
   "metadata": {},
   "outputs": [
    {
     "name": "stdout",
     "output_type": "stream",
     "text": [
      "3619\n"
     ]
    }
   ],
   "source": [
    "count = 0\n",
    "for key in keys:\n",
    "    for lock in locks:\n",
    "        fit = [k+l for k, l in zip(key, lock)]\n",
    "        if max(fit) <= height-2: count += 1\n",
    "\n",
    "print(count)"
   ]
  }
 ],
 "metadata": {
  "kernelspec": {
   "display_name": "Python 3",
   "language": "python",
   "name": "python3"
  },
  "language_info": {
   "codemirror_mode": {
    "name": "ipython",
    "version": 3
   },
   "file_extension": ".py",
   "mimetype": "text/x-python",
   "name": "python",
   "nbconvert_exporter": "python",
   "pygments_lexer": "ipython3",
   "version": "3.12.1"
  }
 },
 "nbformat": 4,
 "nbformat_minor": 2
}
