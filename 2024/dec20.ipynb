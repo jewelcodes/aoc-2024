{
 "cells": [
  {
   "cell_type": "markdown",
   "metadata": {},
   "source": [
    "# Dec 20 – Problem 1"
   ]
  },
  {
   "cell_type": "code",
   "execution_count": 1,
   "metadata": {},
   "outputs": [],
   "source": [
    "with open(\"inputs/dec20.txt\") as f:\n",
    "    raw_data = f.read()"
   ]
  },
  {
   "cell_type": "code",
   "execution_count": 2,
   "metadata": {},
   "outputs": [],
   "source": [
    "width, height = len(raw_data.split(\"\\n\")[0]), len(raw_data.split(\"\\n\"))\n",
    "map = [c for c in raw_data if c != \"\\n\"]\n",
    "start_x, start_y = map.index(\"S\") % width, map.index(\"S\") // width\n",
    "goal_x, goal_y = map.index(\"E\") % width, map.index(\"E\") // width\n",
    "map[map.index(\"E\")] = \".\""
   ]
  },
  {
   "cell_type": "code",
   "execution_count": 3,
   "metadata": {},
   "outputs": [],
   "source": [
    "def get_cell(coords: tuple) -> str:\n",
    "    x, y = coords\n",
    "    if x < 0 or x >= width or y < 0 or y >= height:\n",
    "        return \"#\"\n",
    "    return map[y * width + x]"
   ]
  },
  {
   "cell_type": "code",
   "execution_count": 4,
   "metadata": {},
   "outputs": [],
   "source": [
    "def run() -> dict:\n",
    "    x, y = start_x, start_y\n",
    "    costs = dict()\n",
    "    costs[(x, y)] = 0\n",
    "    steps = 0\n",
    "\n",
    "    while x != goal_x or y != goal_y:\n",
    "        neighbors = [(x+dx, y+dy) for dx in range(-1, 2) for dy in range(-1, 2) if not dx or not dy]\n",
    "        neighbors = list(filter(lambda n: n not in costs, neighbors))\n",
    "        cells = [get_cell(n) for n in neighbors]\n",
    "        x, y = neighbors[cells.index(\".\")] # this works because it's a race track and there's only one possible path\n",
    "        steps += 1\n",
    "        costs[(x, y)] = steps\n",
    "    \n",
    "    return costs"
   ]
  },
  {
   "cell_type": "code",
   "execution_count": 5,
   "metadata": {},
   "outputs": [],
   "source": [
    "costs = run()\n",
    "count = 0\n",
    "cheat_target = 100\n",
    "\n",
    "for y in range(1, height-1):\n",
    "    for x in range(1, width-1):\n",
    "        if get_cell((x, y)) != \"#\": continue\n",
    "        neighbors = [(x+dx, y+dy) for dx in range(-1, 2) for dy in range(-1, 2) if not dx or not dy]\n",
    "        neighbors = filter(lambda n: n in costs, neighbors)\n",
    "        neighbors = sorted(neighbors, key=lambda n: costs[n], reverse=True)\n",
    "        if len(neighbors) < 2: continue\n",
    "\n",
    "        for n in neighbors:\n",
    "            cheat_steps = costs[neighbors[0]] - costs[n] - 2\n",
    "            if cheat_steps >= cheat_target: count += 1"
   ]
  },
  {
   "cell_type": "code",
   "execution_count": 6,
   "metadata": {},
   "outputs": [
    {
     "name": "stdout",
     "output_type": "stream",
     "text": [
      "1502\n"
     ]
    }
   ],
   "source": [
    "print(count)"
   ]
  },
  {
   "cell_type": "markdown",
   "metadata": {},
   "source": [
    "# Dec 20 – Problem 2"
   ]
  },
  {
   "cell_type": "code",
   "execution_count": 7,
   "metadata": {},
   "outputs": [],
   "source": [
    "def manhattan(c1: tuple, c2: tuple) -> int:\n",
    "    x1, y1 = c1\n",
    "    x2, y2 = c2\n",
    "    return abs(x1-x2) + abs(y1-y2)"
   ]
  },
  {
   "cell_type": "code",
   "execution_count": 8,
   "metadata": {},
   "outputs": [],
   "source": [
    "count = 0\n",
    "\n",
    "for p1, c1 in costs.items():\n",
    "    for p2, c2 in reversed(costs.items()):\n",
    "        if p1 == p2 or c1 == c2: continue\n",
    "        distance = manhattan(p1, p2)\n",
    "        if distance <= 20 and c1-c2-distance >= cheat_target:\n",
    "            count += 1"
   ]
  },
  {
   "cell_type": "code",
   "execution_count": 9,
   "metadata": {},
   "outputs": [
    {
     "name": "stdout",
     "output_type": "stream",
     "text": [
      "1028136\n"
     ]
    }
   ],
   "source": [
    "print(count)"
   ]
  }
 ],
 "metadata": {
  "kernelspec": {
   "display_name": "Python 3",
   "language": "python",
   "name": "python3"
  },
  "language_info": {
   "codemirror_mode": {
    "name": "ipython",
    "version": 3
   },
   "file_extension": ".py",
   "mimetype": "text/x-python",
   "name": "python",
   "nbconvert_exporter": "python",
   "pygments_lexer": "ipython3",
   "version": "3.12.1"
  }
 },
 "nbformat": 4,
 "nbformat_minor": 2
}
