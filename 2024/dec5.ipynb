{
 "cells": [
  {
   "cell_type": "markdown",
   "metadata": {},
   "source": [
    "# Dec 5 – Problem 1"
   ]
  },
  {
   "cell_type": "code",
   "execution_count": 1,
   "metadata": {},
   "outputs": [],
   "source": [
    "with open(\"inputs/dec5.txt\") as f:\n",
    "    raw_data = f.read()"
   ]
  },
  {
   "cell_type": "code",
   "execution_count": 2,
   "metadata": {},
   "outputs": [],
   "source": [
    "ordering_rules = []\n",
    "for order in raw_data.split(\"\\n\\n\")[0].split(\"\\n\"):\n",
    "    x, y = int(order.split(\"|\")[0]), int(order.split(\"|\")[1])\n",
    "    ordering_rules += [x, y]"
   ]
  },
  {
   "cell_type": "code",
   "execution_count": 3,
   "metadata": {},
   "outputs": [],
   "source": [
    "def check_order(update: list, x: int) -> bool:\n",
    "    element_index = update.index(x)\n",
    "    rule_indexes = [i for i, r in enumerate(ordering_rules) if r == x]\n",
    "    \n",
    "    for i in rule_indexes:\n",
    "        if i % 2:\n",
    "            before = ordering_rules[i-1]\n",
    "            if before not in update: continue\n",
    "            if update.index(before) > element_index: return False\n",
    "        else:\n",
    "            after = ordering_rules[i+1]\n",
    "            if after not in update: continue\n",
    "            if update.index(after) < element_index: return False\n",
    "\n",
    "    return True"
   ]
  },
  {
   "cell_type": "code",
   "execution_count": 4,
   "metadata": {},
   "outputs": [],
   "source": [
    "sum = 0\n",
    "for u in raw_data.split(\"\\n\\n\")[1].split(\"\\n\"):\n",
    "    update = [int(x) for x in u.split(\",\")]\n",
    "    order = [check_order(update, x) for x in update]\n",
    "    if all(o for o in order):\n",
    "        sum += update[int(len(update)/2)]"
   ]
  },
  {
   "cell_type": "code",
   "execution_count": 5,
   "metadata": {},
   "outputs": [
    {
     "name": "stdout",
     "output_type": "stream",
     "text": [
      "4774\n"
     ]
    }
   ],
   "source": [
    "print(sum)"
   ]
  },
  {
   "cell_type": "markdown",
   "metadata": {},
   "source": [
    "# Dec 5 – Problem 2\n",
    "This is far from the optimal solution and I will probably rewrite this."
   ]
  },
  {
   "cell_type": "code",
   "execution_count": 6,
   "metadata": {},
   "outputs": [],
   "source": [
    "sorting_dict = {}\n",
    "for el in ordering_rules:\n",
    "    sorting_dict[el] = {}\n",
    "    sorting_dict[el][\"after\"] = []\n",
    "    sorting_dict[el][\"before\"] = []\n",
    "\n",
    "    indexes = [i for i, x in enumerate(ordering_rules) if x == el]\n",
    "    for i in indexes:\n",
    "        if i % 2:\n",
    "            sorting_dict[el][\"before\"].append(ordering_rules[i-1])\n",
    "        else:\n",
    "            sorting_dict[el][\"after\"].append(ordering_rules[i+1])"
   ]
  },
  {
   "cell_type": "code",
   "execution_count": 7,
   "metadata": {},
   "outputs": [],
   "source": [
    "def sort(update: list) -> list:\n",
    "    changed = 0\n",
    "\n",
    "    for i in range(len(update)-1):\n",
    "        if update[i+1] in sorting_dict[update[i]][\"before\"]:\n",
    "            update[i+1], update[i] = update[i], update[i+1]\n",
    "            changed += 1\n",
    "    \n",
    "    if changed: return sort(update)\n",
    "    return update"
   ]
  },
  {
   "cell_type": "code",
   "execution_count": 8,
   "metadata": {},
   "outputs": [],
   "source": [
    "sum = 0\n",
    "for u in raw_data.split(\"\\n\\n\")[1].split(\"\\n\"):\n",
    "    update = [int(x) for x in u.split(\",\")]\n",
    "    order = [check_order(update, x) for x in update]\n",
    "    if not all(o for o in order):\n",
    "        update_sorted = sort(update)\n",
    "        sum += update_sorted[int(len(update)/2)]"
   ]
  },
  {
   "cell_type": "code",
   "execution_count": 9,
   "metadata": {},
   "outputs": [
    {
     "name": "stdout",
     "output_type": "stream",
     "text": [
      "6004\n"
     ]
    }
   ],
   "source": [
    "print(sum)"
   ]
  }
 ],
 "metadata": {
  "kernelspec": {
   "display_name": "Python 3",
   "language": "python",
   "name": "python3"
  },
  "language_info": {
   "codemirror_mode": {
    "name": "ipython",
    "version": 3
   },
   "file_extension": ".py",
   "mimetype": "text/x-python",
   "name": "python",
   "nbconvert_exporter": "python",
   "pygments_lexer": "ipython3",
   "version": "3.12.1"
  }
 },
 "nbformat": 4,
 "nbformat_minor": 2
}
