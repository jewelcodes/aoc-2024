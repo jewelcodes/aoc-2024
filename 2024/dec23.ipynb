{
 "cells": [
  {
   "cell_type": "markdown",
   "metadata": {},
   "source": [
    "# Dec 23 – Problem 1"
   ]
  },
  {
   "cell_type": "code",
   "execution_count": 1,
   "metadata": {},
   "outputs": [],
   "source": [
    "with open(\"inputs/dec23.txt\") as f:\n",
    "    raw_data = f.read()"
   ]
  },
  {
   "cell_type": "code",
   "execution_count": 2,
   "metadata": {},
   "outputs": [],
   "source": [
    "class Node:\n",
    "    def __init__(self, value):\n",
    "        self.value = value\n",
    "        self.connections = []\n",
    "    \n",
    "    def connect(self, other):\n",
    "        if other not in self.connections:\n",
    "            self.connections.append(other)"
   ]
  },
  {
   "cell_type": "code",
   "execution_count": 3,
   "metadata": {},
   "outputs": [],
   "source": [
    "def find_node(nodes: list, name: str) -> Node | None:\n",
    "    for n in nodes:\n",
    "        if n.value == name: return n\n",
    "    return None"
   ]
  },
  {
   "cell_type": "code",
   "execution_count": 4,
   "metadata": {},
   "outputs": [],
   "source": [
    "nodes = []\n",
    "for line in raw_data.split(\"\\n\"):\n",
    "    name1, name2 = line.split(\"-\")\n",
    "    node1, node2 = find_node(nodes, name1), find_node(nodes, name2)\n",
    "    if not node1:\n",
    "        node1 = Node(name1)\n",
    "        nodes.append(node1)\n",
    "    if not node2:\n",
    "        node2 = Node(name2)\n",
    "        nodes.append(node2)\n",
    "    node1.connect(node2)\n",
    "    node2.connect(node1)"
   ]
  },
  {
   "cell_type": "code",
   "execution_count": 5,
   "metadata": {},
   "outputs": [],
   "source": [
    "connections = []\n",
    "for n in nodes:\n",
    "    for c1 in n.connections:\n",
    "        for c2 in c1.connections:\n",
    "            if n == c1 or c1 == c2: continue\n",
    "            if n not in c2.connections: continue\n",
    "            connection = sorted([n.value, c1.value, c2.value])\n",
    "            if connection not in connections:\n",
    "                connections.append(connection)"
   ]
  },
  {
   "cell_type": "code",
   "execution_count": 6,
   "metadata": {},
   "outputs": [
    {
     "name": "stdout",
     "output_type": "stream",
     "text": [
      "1378\n"
     ]
    }
   ],
   "source": [
    "count = 0\n",
    "for c in connections:\n",
    "    count += 1 if sum([1 for n in c if n[0] == \"t\"]) else 0\n",
    "\n",
    "print(count)"
   ]
  },
  {
   "cell_type": "markdown",
   "metadata": {},
   "source": [
    "# Dec 23 – Problem 2"
   ]
  },
  {
   "cell_type": "code",
   "execution_count": 7,
   "metadata": {},
   "outputs": [],
   "source": [
    "connections = []\n",
    "\n",
    "for n in nodes:\n",
    "    connection = [n.value]\n",
    "    for c1 in n.connections:\n",
    "        for c2 in n.connections:\n",
    "            if c1 == c2: continue\n",
    "            if c1 in c2.connections:\n",
    "                connection += [c1.value, c2.value]\n",
    "    if len(connection) <= 1: continue\n",
    "    connection = sorted(list(set(connection)))\n",
    "    connections.append(connection)"
   ]
  },
  {
   "cell_type": "code",
   "execution_count": 8,
   "metadata": {},
   "outputs": [
    {
     "name": "stdout",
     "output_type": "stream",
     "text": [
      "bs,ey,fq,fy,he,ii,lh,ol,tc,uu,wl,xq,xv\n"
     ]
    }
   ],
   "source": [
    "intercons = []\n",
    "for c in connections:\n",
    "    if len(c) == connections.count(c): intercons.append(c)\n",
    "\n",
    "password = max(intercons, key=len)\n",
    "for i in range(len(password)):\n",
    "    if i == len(password)-1: print(password[i])\n",
    "    else: print(password[i], end=\",\")"
   ]
  }
 ],
 "metadata": {
  "kernelspec": {
   "display_name": "Python 3",
   "language": "python",
   "name": "python3"
  },
  "language_info": {
   "codemirror_mode": {
    "name": "ipython",
    "version": 3
   },
   "file_extension": ".py",
   "mimetype": "text/x-python",
   "name": "python",
   "nbconvert_exporter": "python",
   "pygments_lexer": "ipython3",
   "version": "3.12.1"
  }
 },
 "nbformat": 4,
 "nbformat_minor": 2
}
