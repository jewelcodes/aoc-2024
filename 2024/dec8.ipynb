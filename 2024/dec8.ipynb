{
 "cells": [
  {
   "cell_type": "markdown",
   "metadata": {},
   "source": [
    "# Dec 8 – Problem 1"
   ]
  },
  {
   "cell_type": "code",
   "execution_count": 1,
   "metadata": {},
   "outputs": [],
   "source": [
    "import itertools\n",
    "\n",
    "with open(\"inputs/dec8.txt\") as f:\n",
    "    raw_data = f.read()"
   ]
  },
  {
   "cell_type": "code",
   "execution_count": 2,
   "metadata": {},
   "outputs": [],
   "source": [
    "width = len(raw_data.split(\"\\n\")[0])\n",
    "pitch = width+1\n",
    "height = len(raw_data.split(\"\\n\"))\n",
    "map = [c for c in raw_data]\n",
    "initial_map = map.copy()"
   ]
  },
  {
   "cell_type": "code",
   "execution_count": 3,
   "metadata": {},
   "outputs": [],
   "source": [
    "def get_cell(x: int, y: int) -> str:\n",
    "    if x < 0 or x >= width or y < 0 or y >= height: return None\n",
    "    return map[(y * pitch) + x]"
   ]
  },
  {
   "cell_type": "code",
   "execution_count": null,
   "metadata": {},
   "outputs": [],
   "source": [
    "def find_antennae():\n",
    "    d = {}\n",
    "    for y in range(height):\n",
    "        for x in range(width):\n",
    "            chr = get_cell(x, y)\n",
    "            if not chr.isalnum(): continue\n",
    "            if chr in d: d[chr].append((x, y))\n",
    "            else: d[chr] = [(x, y)]\n",
    "\n",
    "    return d"
   ]
  },
  {
   "cell_type": "code",
   "execution_count": 5,
   "metadata": {},
   "outputs": [],
   "source": [
    "def add_antinode(c1: tuple, c2: tuple) -> int:\n",
    "    x1, y1 = c1\n",
    "    x2, y2 = c2\n",
    "    dx, dy = x2 - x1, y2 - y1\n",
    "\n",
    "    overlap = 0\n",
    "\n",
    "    chr = get_cell(x1-dx, y1-dy)\n",
    "    if chr is None: pass\n",
    "    elif chr.isalnum(): overlap += 1\n",
    "    else: map[((y1-dy)*pitch) + (x1-dx)] = \"#\"\n",
    "    \n",
    "    chr = get_cell(x2+dx, y2+dy)\n",
    "    if chr is None: pass\n",
    "    elif chr.isalnum(): overlap += 1\n",
    "    else: map[((y2+dy)*pitch) + (x2+dx)] = \"#\"\n",
    "    \n",
    "    return overlap"
   ]
  },
  {
   "cell_type": "code",
   "execution_count": 6,
   "metadata": {},
   "outputs": [],
   "source": [
    "antennae = find_antennae()\n",
    "count = 0\n",
    "\n",
    "for a in antennae:\n",
    "    pairs = list(itertools.combinations(antennae[a], r=2))\n",
    "    for c1, c2 in pairs:\n",
    "        count += add_antinode(c1, c2)\n",
    "\n",
    "count += map.count(\"#\")"
   ]
  },
  {
   "cell_type": "code",
   "execution_count": 7,
   "metadata": {},
   "outputs": [
    {
     "name": "stdout",
     "output_type": "stream",
     "text": [
      "303\n"
     ]
    }
   ],
   "source": [
    "print(count)"
   ]
  },
  {
   "cell_type": "markdown",
   "metadata": {},
   "source": [
    "# Dec 8 – Problem 2"
   ]
  },
  {
   "cell_type": "code",
   "execution_count": 8,
   "metadata": {},
   "outputs": [],
   "source": [
    "def add_antinode2(c1: tuple, c2: tuple) -> int:\n",
    "    x1, y1 = c1\n",
    "    x2, y2 = c2\n",
    "    dx, dy = x2 - x1, y2 - y1\n",
    "\n",
    "    overlap = 0\n",
    "\n",
    "    for i in range(height):\n",
    "        chr = get_cell(x1-(i*dx), y1-(i*dy))\n",
    "        if chr is None: break\n",
    "        elif chr != \"#\": map[((y1-(i*dy))*pitch) + (x1-(i*dx))] = \"#\"\n",
    "        elif chr.isalnum(): overlap += 1\n",
    "    \n",
    "    for i in range(height):\n",
    "        chr = get_cell(x2+(i*dx), y2+(i*dy))\n",
    "        if chr is None: break\n",
    "        elif chr != \"#\": map[((y2+(i*dy))*pitch) + (x2+(i*dx))] = \"#\"\n",
    "        elif chr.isalnum(): overlap += 1\n",
    "    \n",
    "    return overlap"
   ]
  },
  {
   "cell_type": "code",
   "execution_count": 9,
   "metadata": {},
   "outputs": [],
   "source": [
    "map = initial_map.copy()\n",
    "count = 0\n",
    "\n",
    "for a in antennae:\n",
    "    pairs = list(itertools.combinations(antennae[a], r=2))\n",
    "    for c1, c2 in pairs:\n",
    "        count += add_antinode2(c1, c2)\n",
    "\n",
    "count += map.count(\"#\")"
   ]
  },
  {
   "cell_type": "code",
   "execution_count": 10,
   "metadata": {},
   "outputs": [
    {
     "name": "stdout",
     "output_type": "stream",
     "text": [
      "1045\n"
     ]
    }
   ],
   "source": [
    "print(count)"
   ]
  }
 ],
 "metadata": {
  "kernelspec": {
   "display_name": "Python 3",
   "language": "python",
   "name": "python3"
  },
  "language_info": {
   "codemirror_mode": {
    "name": "ipython",
    "version": 3
   },
   "file_extension": ".py",
   "mimetype": "text/x-python",
   "name": "python",
   "nbconvert_exporter": "python",
   "pygments_lexer": "ipython3",
   "version": "3.12.1"
  }
 },
 "nbformat": 4,
 "nbformat_minor": 2
}
