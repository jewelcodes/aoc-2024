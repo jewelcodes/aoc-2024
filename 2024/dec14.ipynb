{
 "cells": [
  {
   "cell_type": "markdown",
   "metadata": {},
   "source": [
    "# Dec 14 – Problem 1"
   ]
  },
  {
   "cell_type": "code",
   "execution_count": 1,
   "metadata": {},
   "outputs": [],
   "source": [
    "import matplotlib.pyplot as plt, numpy as np\n",
    "from collections import defaultdict\n",
    "from IPython.display import clear_output\n",
    "\n",
    "with open(\"inputs/dec14.txt\") as f:\n",
    "    raw_data = f.read()"
   ]
  },
  {
   "cell_type": "code",
   "execution_count": 2,
   "metadata": {},
   "outputs": [],
   "source": [
    "width, height = 101, 103"
   ]
  },
  {
   "cell_type": "code",
   "execution_count": 3,
   "metadata": {},
   "outputs": [],
   "source": [
    "robots = []\n",
    "for line in raw_data.split(\"\\n\"):\n",
    "    robot = dict()\n",
    "    x = int(line.split(\"=\")[1].split(\",\")[0])\n",
    "    y = int(line.split(\",\")[1].split(\" \")[0])\n",
    "    vx = int(line.split(\"=\")[2].split(\",\")[0])\n",
    "    vy = int(line.split(\",\")[2].split()[0])\n",
    "    \n",
    "    robot[\"coords\"] = (x, y)\n",
    "    robot[\"velocity\"] = (vx, vy)\n",
    "    robots.append(robot)"
   ]
  },
  {
   "cell_type": "code",
   "execution_count": 4,
   "metadata": {},
   "outputs": [],
   "source": [
    "def cycle():\n",
    "    for robot in robots:\n",
    "        x, y = robot[\"coords\"]\n",
    "        vx, vy = robot[\"velocity\"]\n",
    "        x += vx\n",
    "        y += vy\n",
    "        if x >= width: x -= width\n",
    "        elif x < 0: x = width + x\n",
    "        if y >= height: y -= height\n",
    "        elif y < 0: y = height + y\n",
    "\n",
    "        robot[\"coords\"] = (x, y)"
   ]
  },
  {
   "cell_type": "code",
   "execution_count": 5,
   "metadata": {},
   "outputs": [],
   "source": [
    "def safety() -> int:\n",
    "    product = 1\n",
    "    \n",
    "    def quadrant(q: int) -> int:\n",
    "        count = 0\n",
    "        qx, qy = 0, 0\n",
    "        qx_end, qy_end = width//2, height//2\n",
    "\n",
    "        if q == 1: qx += width//2 + 1\n",
    "        elif q >= 2: qy += height//2 + 1\n",
    "        if q == 3: qx += width//2 + 1\n",
    "\n",
    "        qx_end += qx - 1\n",
    "        qy_end += qy - 1\n",
    "        \n",
    "        for robot in robots:\n",
    "            x, y = robot[\"coords\"]\n",
    "            if x >= qx and x <= qx_end and y >= qy and y <= qy_end:\n",
    "                count += 1\n",
    "        return count\n",
    "\n",
    "    for q in range(4):\n",
    "        product *= quadrant(q)\n",
    "\n",
    "    return product"
   ]
  },
  {
   "cell_type": "code",
   "execution_count": null,
   "metadata": {},
   "outputs": [],
   "source": [
    "for i in range(100): cycle()\n",
    "\n",
    "count = safety()\n",
    "print(count)"
   ]
  },
  {
   "cell_type": "markdown",
   "metadata": {},
   "source": [
    "# Dec 14 – Problem 2\n",
    "tbh I didn't bother writing any \"christmas tree detection code\" because maybe the point of the easter egg was to find the easter egg manually"
   ]
  },
  {
   "cell_type": "code",
   "execution_count": 7,
   "metadata": {},
   "outputs": [],
   "source": [
    "def plot_map(cycle: int):\n",
    "    coords = defaultdict(int)\n",
    "    for robot in robots:\n",
    "        coords[robot[\"coords\"]] += 1\n",
    "\n",
    "    bitmap = np.zeros((height,width), dtype=np.uint8)\n",
    "\n",
    "    for y in range(height):\n",
    "        for x in range(width):\n",
    "            if (x, y) in coords:\n",
    "                bitmap[y][x] = 0\n",
    "            else:\n",
    "                bitmap[y][x] = 255\n",
    "\n",
    "    plt.imsave(f\"outputs/dec14/{cycle}.png\", bitmap)"
   ]
  },
  {
   "cell_type": "code",
   "execution_count": 8,
   "metadata": {},
   "outputs": [],
   "source": [
    "robots = [] # reset robots to their initial state\n",
    "for line in raw_data.split(\"\\n\"):\n",
    "    robot = dict()\n",
    "    x = int(line.split(\"=\")[1].split(\",\")[0])\n",
    "    y = int(line.split(\",\")[1].split(\" \")[0])\n",
    "    vx = int(line.split(\"=\")[2].split(\",\")[0])\n",
    "    vy = int(line.split(\",\")[2].split()[0])\n",
    "    \n",
    "    robot[\"coords\"] = (x, y)\n",
    "    robot[\"velocity\"] = (vx, vy)\n",
    "    robots.append(robot)"
   ]
  },
  {
   "cell_type": "code",
   "execution_count": null,
   "metadata": {},
   "outputs": [],
   "source": [
    "cycles = 0\n",
    "\n",
    "while True:\n",
    "    clear_output()\n",
    "    print(f\"{cycles}\")\n",
    "    plot_map(cycles)\n",
    "    cycle()\n",
    "    cycles += 1"
   ]
  }
 ],
 "metadata": {
  "kernelspec": {
   "display_name": "Python 3",
   "language": "python",
   "name": "python3"
  },
  "language_info": {
   "codemirror_mode": {
    "name": "ipython",
    "version": 3
   },
   "file_extension": ".py",
   "mimetype": "text/x-python",
   "name": "python",
   "nbconvert_exporter": "python",
   "pygments_lexer": "ipython3",
   "version": "3.12.1"
  }
 },
 "nbformat": 4,
 "nbformat_minor": 2
}
