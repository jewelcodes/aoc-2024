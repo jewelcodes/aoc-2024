{
 "cells": [
  {
   "cell_type": "markdown",
   "metadata": {},
   "source": [
    "# Dec 17 – Problem 1"
   ]
  },
  {
   "cell_type": "code",
   "execution_count": 1,
   "metadata": {},
   "outputs": [],
   "source": [
    "with open(\"inputs/dec17.txt\") as f:\n",
    "    raw_data = f.read()"
   ]
  },
  {
   "cell_type": "code",
   "execution_count": 2,
   "metadata": {},
   "outputs": [],
   "source": [
    "initial_a = int(raw_data.split(\": \")[1].split(\"\\n\")[0])\n",
    "initial_b = int(raw_data.split(\": \")[2].split(\"\\n\")[0])\n",
    "initial_c = int(raw_data.split(\": \")[3].split(\"\\n\")[0])\n",
    "program = [int(i) for i in raw_data.split(\": \")[4].split(\",\")]"
   ]
  },
  {
   "cell_type": "code",
   "execution_count": 3,
   "metadata": {},
   "outputs": [],
   "source": [
    "def run(start_a: int) -> list:\n",
    "    a, b, c = start_a, initial_b, initial_c\n",
    "    pc = 0\n",
    "    output = []\n",
    "\n",
    "    while pc < len(program)-1:\n",
    "        opcode = program[pc]\n",
    "        operand = program[pc+1]\n",
    "\n",
    "        if operand <= 3: operand_value = operand\n",
    "        elif operand == 4: operand_value = a\n",
    "        elif operand == 5: operand_value = b\n",
    "        elif operand == 6: operand_value = c\n",
    "\n",
    "        if opcode == 0:     # adv\n",
    "            a = a // (1 << operand_value)\n",
    "        elif opcode == 1:   # bxl\n",
    "            b = b ^ operand\n",
    "        elif opcode == 2:   # bst\n",
    "            b = operand_value % 8\n",
    "        elif opcode == 3:   # jnz\n",
    "            if a != 0:\n",
    "                pc = operand\n",
    "                continue\n",
    "        elif opcode == 4:   # bxc\n",
    "            b = b ^ c\n",
    "        elif opcode == 5:   # out\n",
    "            output.append(operand_value % 8)\n",
    "        elif opcode == 6:   # bdv\n",
    "            b = a // (1 << operand_value)\n",
    "        elif opcode == 7:   # cdv\n",
    "            c = a // (1 << operand_value)\n",
    "        \n",
    "        pc += 2\n",
    "    \n",
    "    return output"
   ]
  },
  {
   "cell_type": "code",
   "execution_count": 4,
   "metadata": {},
   "outputs": [
    {
     "name": "stdout",
     "output_type": "stream",
     "text": [
      "6,5,4,7,1,6,0,3,1"
     ]
    }
   ],
   "source": [
    "out = run(initial_a)\n",
    "for i in range(len(out)):\n",
    "    if i == len(out) - 1: print(out[i], end=\"\")\n",
    "    else: print(out[i], end=\",\")"
   ]
  },
  {
   "cell_type": "markdown",
   "metadata": {},
   "source": [
    "# Dec 17 – Problem 2"
   ]
  },
  {
   "cell_type": "code",
   "execution_count": 5,
   "metadata": {},
   "outputs": [],
   "source": [
    "a_shift = 0\n",
    "for i in range(len(program) // 2):\n",
    "    if program[i*2] == 0:     # adv\n",
    "        a_shift += program[i*2+1] if 1 <= program[i*2+1] <= 3 else 0\n",
    "\n",
    "assert a_shift != 0, \"expected A to be shifted but got shift zero\""
   ]
  },
  {
   "cell_type": "code",
   "execution_count": 6,
   "metadata": {},
   "outputs": [],
   "source": [
    "valid_vals = [0]\n",
    "\n",
    "for opcode in reversed(program):\n",
    "    next_vals = []\n",
    "\n",
    "    for val in valid_vals:\n",
    "        val_shifted = val << a_shift\n",
    "        for test in range(val_shifted, val_shifted + (1 << a_shift)):\n",
    "            out = run(test)\n",
    "            if out[0] == opcode: next_vals.append(test)\n",
    "        \n",
    "    valid_vals = next_vals"
   ]
  },
  {
   "cell_type": "code",
   "execution_count": 7,
   "metadata": {},
   "outputs": [
    {
     "name": "stdout",
     "output_type": "stream",
     "text": [
      "106086382266778\n"
     ]
    }
   ],
   "source": [
    "min_a = min(valid_vals)\n",
    "print(min_a)"
   ]
  }
 ],
 "metadata": {
  "kernelspec": {
   "display_name": "Python 3",
   "language": "python",
   "name": "python3"
  },
  "language_info": {
   "codemirror_mode": {
    "name": "ipython",
    "version": 3
   },
   "file_extension": ".py",
   "mimetype": "text/x-python",
   "name": "python",
   "nbconvert_exporter": "python",
   "pygments_lexer": "ipython3",
   "version": "3.12.1"
  }
 },
 "nbformat": 4,
 "nbformat_minor": 2
}
