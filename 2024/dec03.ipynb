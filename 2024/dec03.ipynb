{
 "cells": [
  {
   "cell_type": "markdown",
   "metadata": {},
   "source": [
    "# Dec 3 – Problem 1"
   ]
  },
  {
   "cell_type": "code",
   "execution_count": 1,
   "metadata": {},
   "outputs": [],
   "source": [
    "with open(\"inputs/dec3.txt\") as f:\n",
    "    raw_data = f.read()"
   ]
  },
  {
   "cell_type": "code",
   "execution_count": 2,
   "metadata": {},
   "outputs": [],
   "source": [
    "sum = 0\n",
    "\n",
    "for mul in raw_data.split(\"mul(\"):\n",
    "    numbers = mul.split(\")\")[0].split(\",\")\n",
    "    if numbers is None or len(numbers) < 2: continue\n",
    "    \n",
    "    try:\n",
    "        x = int(numbers[0])\n",
    "        y = int(numbers[1])\n",
    "\n",
    "        sum += x*y\n",
    "    except ValueError: continue"
   ]
  },
  {
   "cell_type": "code",
   "execution_count": 3,
   "metadata": {},
   "outputs": [
    {
     "name": "stdout",
     "output_type": "stream",
     "text": [
      "191183308\n"
     ]
    }
   ],
   "source": [
    "print(sum)"
   ]
  },
  {
   "cell_type": "markdown",
   "metadata": {},
   "source": [
    "# Dec 3 – Problem 2"
   ]
  },
  {
   "cell_type": "code",
   "execution_count": 4,
   "metadata": {},
   "outputs": [],
   "source": [
    "sum = 0\n",
    "enabled = True\n",
    "\n",
    "for mul in raw_data.split(\"mul(\"):\n",
    "    numbers = mul.split(\")\")[0].split(\",\")\n",
    "    if numbers is None or len(numbers) < 2: continue\n",
    "    \n",
    "    if enabled:\n",
    "        try:\n",
    "            x = int(numbers[0])\n",
    "            y = int(numbers[1])\n",
    "\n",
    "            sum += x*y\n",
    "        except ValueError: pass\n",
    "\n",
    "    if \"don't()\" in mul: enabled = False\n",
    "    elif \"do()\" in mul: enabled = True"
   ]
  },
  {
   "cell_type": "code",
   "execution_count": 5,
   "metadata": {},
   "outputs": [
    {
     "name": "stdout",
     "output_type": "stream",
     "text": [
      "92082041\n"
     ]
    }
   ],
   "source": [
    "print(sum)"
   ]
  }
 ],
 "metadata": {
  "kernelspec": {
   "display_name": "Python 3",
   "language": "python",
   "name": "python3"
  },
  "language_info": {
   "codemirror_mode": {
    "name": "ipython",
    "version": 3
   },
   "file_extension": ".py",
   "mimetype": "text/x-python",
   "name": "python",
   "nbconvert_exporter": "python",
   "pygments_lexer": "ipython3",
   "version": "3.12.1"
  }
 },
 "nbformat": 4,
 "nbformat_minor": 2
}
