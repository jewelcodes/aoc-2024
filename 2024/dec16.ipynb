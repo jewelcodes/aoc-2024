{
 "cells": [
  {
   "cell_type": "markdown",
   "metadata": {},
   "source": [
    "# Dec 16 – Problem 1"
   ]
  },
  {
   "cell_type": "code",
   "execution_count": 1,
   "metadata": {},
   "outputs": [],
   "source": [
    "from collections import defaultdict\n",
    "import heapq\n",
    "\n",
    "with open(\"inputs/dec16.txt\") as f:\n",
    "    raw_data = f.read()"
   ]
  },
  {
   "cell_type": "code",
   "execution_count": 2,
   "metadata": {},
   "outputs": [],
   "source": [
    "NORTH, EAST, SOUTH, WEST = 0, 1, 2, 3\n",
    "deltas = [(0, -1), (1, 0), (0, 1), (-1, 0)]\n",
    "width = len(raw_data.split(\"\\n\")[0])\n",
    "pitch = width+1\n",
    "height = len(raw_data.split(\"\\n\"))\n",
    "map = [c for c in raw_data]"
   ]
  },
  {
   "cell_type": "code",
   "execution_count": 3,
   "metadata": {},
   "outputs": [
    {
     "name": "stdout",
     "output_type": "stream",
     "text": [
      "initial position (1, 139), goal (139, 1)\n"
     ]
    }
   ],
   "source": [
    "start_x, start_y = map.index(\"S\") % pitch, map.index(\"S\") // pitch\n",
    "goal_x, goal_y = map.index(\"E\") % pitch, map.index(\"E\") // pitch\n",
    "print(f\"initial position {start_x, start_y}, goal {goal_x, goal_y}\")\n",
    "map[map.index(\"S\")] = \".\"\n",
    "map[map.index(\"E\")] = \".\""
   ]
  },
  {
   "cell_type": "code",
   "execution_count": 4,
   "metadata": {},
   "outputs": [],
   "source": [
    "def get_cell(coords: tuple) -> str:\n",
    "    x, y = coords\n",
    "    if x < 0 or x >= width or y < 0 or y >= height:\n",
    "        return None\n",
    "    return map[y * pitch + x]"
   ]
  },
  {
   "cell_type": "code",
   "execution_count": 5,
   "metadata": {},
   "outputs": [],
   "source": [
    "def path(c1: tuple, c2: tuple) -> tuple:\n",
    "    x1, y1 = c1\n",
    "    x2, y2 = c2\n",
    "    return tuple(j for i in sorted([(x1, y1), (x2, y2)]) for j in i)"
   ]
  },
  {
   "cell_type": "code",
   "execution_count": 6,
   "metadata": {},
   "outputs": [],
   "source": [
    "def dijkstra_search():\n",
    "    distance = defaultdict(lambda:(float(\"inf\"), set()))\n",
    "    distance[(start_x, start_y, EAST)] = (0,set())\n",
    "    queue = [(0, (start_x, start_y), EAST)]\n",
    "\n",
    "    while queue:\n",
    "        cost, coords, dir = heapq.heappop(queue)\n",
    "        x, y = coords\n",
    "        _, paths = distance[(x, y, dir)]\n",
    "        for new_dir in range(-1, 2):\n",
    "            dx, dy = deltas[(dir + new_dir) % 4]\n",
    "            nx = x + dx\n",
    "            ny = y + dy\n",
    "            new_cost = cost + 1\n",
    "            if new_dir != 0: new_cost += 1000\n",
    "\n",
    "            while get_cell((nx, ny)) != \"#\" and get_cell((nx+dy, ny+dx)) == \"#\" and get_cell((nx-dy, ny-dx)) == \"#\":\n",
    "                nx += dx\n",
    "                ny += dy\n",
    "                new_cost += 1\n",
    "            \n",
    "            new_paths = paths | {path((x, y), (nx, ny))}\n",
    "\n",
    "            if nx == goal_x and ny == goal_y:\n",
    "                return (new_cost, paths)\n",
    "            \n",
    "            if get_cell((nx, ny)) != \"#\":\n",
    "                old_cost, old_paths = distance[(nx, ny, (dir + new_dir) % 4)]\n",
    "                if old_cost == new_cost:\n",
    "                    if any((seg not in old_paths) for seg in new_paths):\n",
    "                        old_paths |= new_paths\n",
    "                        heapq.heappush(queue, (new_cost, (nx, ny), (dir + new_dir) % 4))\n",
    "                elif old_cost > new_cost:\n",
    "                    distance[(nx, ny, (dir + new_dir) % 4)] = (new_cost, new_paths)\n",
    "                    heapq.heappush(queue, (new_cost, (nx, ny), (dir + new_dir) % 4))"
   ]
  },
  {
   "cell_type": "code",
   "execution_count": 7,
   "metadata": {},
   "outputs": [
    {
     "name": "stdout",
     "output_type": "stream",
     "text": [
      "92432\n"
     ]
    }
   ],
   "source": [
    "cost, _ = dijkstra_search()\n",
    "print(cost)"
   ]
  },
  {
   "cell_type": "markdown",
   "metadata": {},
   "source": [
    "# Dec 16 – Problem 2"
   ]
  },
  {
   "cell_type": "code",
   "execution_count": 8,
   "metadata": {},
   "outputs": [
    {
     "name": "stdout",
     "output_type": "stream",
     "text": [
      "458\n"
     ]
    }
   ],
   "source": [
    "_, paths = dijkstra_search()\n",
    "count = 0\n",
    "\n",
    "for x1, y1, x2, y2 in paths:\n",
    "    count += abs(x2 - x1) + abs(y2 - y1)\n",
    "\n",
    "print(count)"
   ]
  }
 ],
 "metadata": {
  "kernelspec": {
   "display_name": "Python 3",
   "language": "python",
   "name": "python3"
  },
  "language_info": {
   "codemirror_mode": {
    "name": "ipython",
    "version": 3
   },
   "file_extension": ".py",
   "mimetype": "text/x-python",
   "name": "python",
   "nbconvert_exporter": "python",
   "pygments_lexer": "ipython3",
   "version": "3.12.1"
  }
 },
 "nbformat": 4,
 "nbformat_minor": 2
}
