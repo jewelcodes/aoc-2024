{
 "cells": [
  {
   "cell_type": "markdown",
   "metadata": {},
   "source": [
    "# Dec 13 – Problem 1"
   ]
  },
  {
   "cell_type": "code",
   "execution_count": 1,
   "metadata": {},
   "outputs": [],
   "source": [
    "import sympy as sp\n",
    "\n",
    "with open(\"inputs/dec13.txt\") as f:\n",
    "    raw_data = f.read()"
   ]
  },
  {
   "cell_type": "code",
   "execution_count": 2,
   "metadata": {},
   "outputs": [],
   "source": [
    "problem_count = len(raw_data.split(\"\\n\\n\"))"
   ]
  },
  {
   "cell_type": "code",
   "execution_count": 3,
   "metadata": {},
   "outputs": [],
   "source": [
    "def solver(index: int) -> tuple:\n",
    "    problem = raw_data.split(\"\\n\\n\")[index]\n",
    "    ax = int(problem.split(\"+\")[1].split(\",\")[0])\n",
    "    bx = int(problem.split(\"+\")[3].split(\",\")[0])\n",
    "    ay = int(problem.split(\"+\")[2].split(\"\\n\")[0])\n",
    "    by = int(problem.split(\"+\")[4].split(\"\\n\")[0])\n",
    "    prize_x = int(problem.split(\"=\")[1].split(\",\")[0])\n",
    "    prize_y = int(problem.split(\"=\")[2].split(\"\\n\")[0])\n",
    "\n",
    "    a, b = sp.symbols(\"a b\")\n",
    "    x = sp.Eq(a*ax + b*bx, prize_x)\n",
    "    y = sp.Eq(a*ay + b*by, prize_y)\n",
    "    sol = sp.solve((x, y), (a, b))\n",
    "    \n",
    "    if sol[a] < 100 and sol[b] < 100 and sol[a] == int(sol[a]) and sol[b] == int(sol[b]):\n",
    "        return (int(sol[a]), int(sol[b]))\n",
    "    return (0,0)"
   ]
  },
  {
   "cell_type": "code",
   "execution_count": 4,
   "metadata": {},
   "outputs": [],
   "source": [
    "sum_a = 0\n",
    "sum_b = 0\n",
    "\n",
    "for i in range(problem_count):\n",
    "    a, b = solver(i)\n",
    "    sum_a += a\n",
    "    sum_b += b"
   ]
  },
  {
   "cell_type": "code",
   "execution_count": 5,
   "metadata": {},
   "outputs": [
    {
     "name": "stdout",
     "output_type": "stream",
     "text": [
      "26599\n"
     ]
    }
   ],
   "source": [
    "sum = sum_a*3 + sum_b\n",
    "print(sum)"
   ]
  },
  {
   "cell_type": "markdown",
   "metadata": {},
   "source": [
    "# Dec 13 – Problem 2"
   ]
  },
  {
   "cell_type": "code",
   "execution_count": 6,
   "metadata": {},
   "outputs": [],
   "source": [
    "def solver2(index: int) -> tuple:\n",
    "    problem = raw_data.split(\"\\n\\n\")[index]\n",
    "    ax = int(problem.split(\"+\")[1].split(\",\")[0])\n",
    "    bx = int(problem.split(\"+\")[3].split(\",\")[0])\n",
    "    ay = int(problem.split(\"+\")[2].split(\"\\n\")[0])\n",
    "    by = int(problem.split(\"+\")[4].split(\"\\n\")[0])\n",
    "    prize_x = int(problem.split(\"=\")[1].split(\",\")[0]) + 10000000000000\n",
    "    prize_y = int(problem.split(\"=\")[2].split(\"\\n\")[0]) + 10000000000000\n",
    "\n",
    "    a, b = sp.symbols(\"a b\")\n",
    "    x = sp.Eq(a*ax + b*bx, prize_x)\n",
    "    y = sp.Eq(a*ay + b*by, prize_y)\n",
    "    sol = sp.solve((x, y), (a, b))\n",
    "    \n",
    "    if sol[a] == int(sol[a]) and sol[b] == int(sol[b]):\n",
    "        return (int(sol[a]), int(sol[b]))\n",
    "    return (0,0)"
   ]
  },
  {
   "cell_type": "code",
   "execution_count": 7,
   "metadata": {},
   "outputs": [],
   "source": [
    "sum_a = 0\n",
    "sum_b = 0\n",
    "\n",
    "for i in range(problem_count):\n",
    "    a, b = solver2(i)\n",
    "    sum_a += a\n",
    "    sum_b += b"
   ]
  },
  {
   "cell_type": "code",
   "execution_count": 8,
   "metadata": {},
   "outputs": [
    {
     "name": "stdout",
     "output_type": "stream",
     "text": [
      "106228669504887\n"
     ]
    }
   ],
   "source": [
    "sum = sum_a*3 + sum_b\n",
    "print(sum)"
   ]
  }
 ],
 "metadata": {
  "kernelspec": {
   "display_name": "Python 3",
   "language": "python",
   "name": "python3"
  },
  "language_info": {
   "codemirror_mode": {
    "name": "ipython",
    "version": 3
   },
   "file_extension": ".py",
   "mimetype": "text/x-python",
   "name": "python",
   "nbconvert_exporter": "python",
   "pygments_lexer": "ipython3",
   "version": "3.12.1"
  }
 },
 "nbformat": 4,
 "nbformat_minor": 2
}
