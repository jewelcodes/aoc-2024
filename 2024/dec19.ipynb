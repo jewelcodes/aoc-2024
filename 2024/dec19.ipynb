{
 "cells": [
  {
   "cell_type": "markdown",
   "metadata": {},
   "source": [
    "# Dec 19 – Problem 1"
   ]
  },
  {
   "cell_type": "code",
   "execution_count": 1,
   "metadata": {},
   "outputs": [],
   "source": [
    "from collections import defaultdict\n",
    "\n",
    "with open(\"inputs/dec19.txt\") as f:\n",
    "    raw_data = f.read()"
   ]
  },
  {
   "cell_type": "code",
   "execution_count": 2,
   "metadata": {},
   "outputs": [],
   "source": [
    "towels = raw_data.split(\"\\n\")[0].split(\", \")\n",
    "designs = raw_data.split(\"\\n\\n\")[1].split(\"\\n\")"
   ]
  },
  {
   "cell_type": "code",
   "execution_count": 3,
   "metadata": {},
   "outputs": [],
   "source": [
    "def assemble(design: str):\n",
    "    if len(design) == 0: return 1\n",
    "\n",
    "    for towel in towels:\n",
    "        if design[:len(towel)] == towel:\n",
    "            step = assemble(design[len(towel):])\n",
    "            if step == 1: return 1\n",
    "    \n",
    "    return 0"
   ]
  },
  {
   "cell_type": "code",
   "execution_count": 4,
   "metadata": {},
   "outputs": [
    {
     "name": "stdout",
     "output_type": "stream",
     "text": [
      "358\n"
     ]
    }
   ],
   "source": [
    "count = 0\n",
    "for design in designs: count += assemble(design)\n",
    "print(count)"
   ]
  },
  {
   "cell_type": "markdown",
   "metadata": {},
   "source": [
    "# Dec 19 – Problem 2"
   ]
  },
  {
   "cell_type": "code",
   "execution_count": 5,
   "metadata": {},
   "outputs": [],
   "source": [
    "cache = defaultdict(int)\n",
    "\n",
    "def assemble2(design: str, recursing: bool=False):\n",
    "    global cache\n",
    "    if not recursing: cache = defaultdict(int)\n",
    "\n",
    "    count = 0\n",
    "    if len(design) == 0: return 1\n",
    "\n",
    "    for towel in towels:\n",
    "        if design[:len(towel)] == towel:\n",
    "            next_segment = design[len(towel):]\n",
    "            if next_segment in cache:\n",
    "                count += cache[next_segment]\n",
    "            else:\n",
    "                cache[next_segment] = assemble2(next_segment, recursing=True)\n",
    "                count += cache[next_segment]\n",
    "\n",
    "    return count"
   ]
  },
  {
   "cell_type": "code",
   "execution_count": 6,
   "metadata": {},
   "outputs": [
    {
     "name": "stdout",
     "output_type": "stream",
     "text": [
      "600639829400603\n"
     ]
    }
   ],
   "source": [
    "count = 0\n",
    "for design in designs: count += assemble2(design)\n",
    "print(count)"
   ]
  }
 ],
 "metadata": {
  "kernelspec": {
   "display_name": "Python 3",
   "language": "python",
   "name": "python3"
  },
  "language_info": {
   "codemirror_mode": {
    "name": "ipython",
    "version": 3
   },
   "file_extension": ".py",
   "mimetype": "text/x-python",
   "name": "python",
   "nbconvert_exporter": "python",
   "pygments_lexer": "ipython3",
   "version": "3.12.1"
  }
 },
 "nbformat": 4,
 "nbformat_minor": 2
}
