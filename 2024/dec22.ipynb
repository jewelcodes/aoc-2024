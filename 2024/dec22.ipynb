{
 "cells": [
  {
   "cell_type": "markdown",
   "metadata": {},
   "source": [
    "# Dec 22 – Problem 1"
   ]
  },
  {
   "cell_type": "code",
   "execution_count": 1,
   "metadata": {},
   "outputs": [],
   "source": [
    "from collections import defaultdict\n",
    "\n",
    "with open(\"inputs/dec22.txt\") as f:\n",
    "    raw_data = f.read()"
   ]
  },
  {
   "cell_type": "code",
   "execution_count": 2,
   "metadata": {},
   "outputs": [],
   "source": [
    "def next_secret(secret: int, count: int) -> int:\n",
    "    for i in range(count):\n",
    "        old_secret = secret\n",
    "        secret *= 64\n",
    "        secret ^= old_secret\n",
    "        secret %= 16777216\n",
    "        old_secret = secret\n",
    "\n",
    "        secret //= 32\n",
    "        secret ^= old_secret\n",
    "        secret %= 16777216\n",
    "        old_secret = secret\n",
    "\n",
    "        secret *= 2048\n",
    "        secret ^= old_secret\n",
    "        secret %= 16777216\n",
    "        old_secret = secret\n",
    "\n",
    "    return secret"
   ]
  },
  {
   "cell_type": "code",
   "execution_count": 3,
   "metadata": {},
   "outputs": [
    {
     "name": "stdout",
     "output_type": "stream",
     "text": [
      "18261820068\n"
     ]
    }
   ],
   "source": [
    "secrets = sum([next_secret(int(s), 2000) for s in raw_data.split(\"\\n\")])\n",
    "print(secrets)"
   ]
  },
  {
   "cell_type": "markdown",
   "metadata": {},
   "source": [
    "# Dec 22 – Problem 2"
   ]
  },
  {
   "cell_type": "code",
   "execution_count": 4,
   "metadata": {},
   "outputs": [],
   "source": [
    "ranges = defaultdict(list)\n",
    "\n",
    "for s in raw_data.split(\"\\n\"):\n",
    "    secret = int(s)\n",
    "    price_change = []\n",
    "    visited = []\n",
    "\n",
    "    for i in range(2000):\n",
    "        next = next_secret(secret, 1)\n",
    "        price_change.append((next % 10) - (secret % 10))\n",
    "        secret = next\n",
    "\n",
    "        if len(price_change) == 4:\n",
    "            range_id = \"\"\n",
    "            for n in price_change:\n",
    "                range_id += str(n) + \",\"\n",
    "            if range_id not in visited:\n",
    "                ranges[range_id].append(next % 10)\n",
    "                visited.append(range_id)\n",
    "            del price_change[0]"
   ]
  },
  {
   "cell_type": "code",
   "execution_count": 5,
   "metadata": {},
   "outputs": [
    {
     "name": "stdout",
     "output_type": "stream",
     "text": [
      "2044\n"
     ]
    }
   ],
   "source": [
    "count = max([sum(v) for v in ranges.values()])\n",
    "print(count)"
   ]
  }
 ],
 "metadata": {
  "kernelspec": {
   "display_name": "Python 3",
   "language": "python",
   "name": "python3"
  },
  "language_info": {
   "codemirror_mode": {
    "name": "ipython",
    "version": 3
   },
   "file_extension": ".py",
   "mimetype": "text/x-python",
   "name": "python",
   "nbconvert_exporter": "python",
   "pygments_lexer": "ipython3",
   "version": "3.12.1"
  }
 },
 "nbformat": 4,
 "nbformat_minor": 2
}
