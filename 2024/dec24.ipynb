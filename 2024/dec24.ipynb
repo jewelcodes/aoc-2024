{
 "cells": [
  {
   "cell_type": "markdown",
   "metadata": {},
   "source": [
    "# Dec 24 – Problem 1"
   ]
  },
  {
   "cell_type": "code",
   "execution_count": 1,
   "metadata": {},
   "outputs": [],
   "source": [
    "from collections import defaultdict\n",
    "\n",
    "with open(\"inputs/dec24.txt\") as f:\n",
    "    raw_data = f.read()"
   ]
  },
  {
   "cell_type": "code",
   "execution_count": 2,
   "metadata": {},
   "outputs": [],
   "source": [
    "values = dict()\n",
    "ops = []\n",
    "\n",
    "for line in raw_data.split(\"\\n\\n\")[0].split(\"\\n\"):\n",
    "    name, value = line.split(\": \")\n",
    "    values[name] = int(value)\n",
    "\n",
    "for line in raw_data.split(\"\\n\\n\")[1].split(\"\\n\"):\n",
    "    inp1, gate, inp2 = line.split(\" ->\")[0].split(\" \")\n",
    "    out = line.split(\"-> \")[1]\n",
    "    ops.append((inp1, inp2, gate, out))"
   ]
  },
  {
   "cell_type": "code",
   "execution_count": 3,
   "metadata": {},
   "outputs": [],
   "source": [
    "def work() -> int:\n",
    "    global values\n",
    "    missing = 0\n",
    "\n",
    "    for (inp1, inp2, gate, out) in ops:\n",
    "        if out in values: continue\n",
    "        if inp1 not in values or inp2 not in values:\n",
    "            missing += 1\n",
    "            continue\n",
    "            \n",
    "        assert gate in [\"AND\", \"OR\", \"XOR\"], f\"undefined gate {gate}\"\n",
    "        match gate:\n",
    "            case \"OR\": values[out] = values[inp1] | values[inp2]\n",
    "            case \"AND\": values[out] = values[inp1] & values[inp2]\n",
    "            case \"XOR\": values[out] = values[inp1] ^ values[inp2]\n",
    "\n",
    "    return missing"
   ]
  },
  {
   "cell_type": "code",
   "execution_count": 4,
   "metadata": {},
   "outputs": [
    {
     "name": "stdout",
     "output_type": "stream",
     "text": [
      "64755511006320\n"
     ]
    }
   ],
   "source": [
    "while work(): pass\n",
    "output = 0\n",
    "for k, v in values.items():\n",
    "    if k[0] == \"z\": output |= v << int(k[1:])\n",
    "\n",
    "print(output)"
   ]
  },
  {
   "cell_type": "markdown",
   "metadata": {},
   "source": [
    "# Dec 24 – Problem 2\n",
    "admittedly this took me longer than I'd like to admit but I'm kinda proud of this solution that basically enforces this pattern I found by manually tracing the paths on the graph, which holds true for my input data at least\n",
    "\n",
    "<pre>inp = input (xXX or yXX)\n",
    "out = output (zXX)\n",
    "int = intermediate (3-letter gibberish wires)\n",
    "\n",
    "XOR rules:\n",
    "    int XOR int = out\n",
    "    inp XOR inp = int   -> must go through AND and/or XOR gates\n",
    "\n",
    "OR rules:\n",
    "    int OR int = int    -> must go through both AND and XOR\n",
    "\n",
    "AND rules:\n",
    "    inp AND inp = int   -> must go through OR gate\n",
    "    int AND int = int   -> must go through OR gate\n",
    "\n",
    "Special case for LOWEST bit:\n",
    "    x00 XOR y00 = z00\n",
    "\n",
    "Special case for HIGHEST bit:\n",
    "    int OR int = zXX    -> XX is however many bits are in the output</pre>"
   ]
  },
  {
   "cell_type": "code",
   "execution_count": 5,
   "metadata": {},
   "outputs": [],
   "source": [
    "# this is a helper function I used for manual pattern detection\n",
    "# it is not used in the actual solution\n",
    "\n",
    "def get_path(wire: str) -> list:\n",
    "    path = []\n",
    "    for (inp1, inp2, gate, out) in ops:\n",
    "        if out == wire:\n",
    "            path.append((inp1, inp2, gate, out))\n",
    "            path += get_path(inp1)\n",
    "            path += get_path(inp2)\n",
    "\n",
    "    return path"
   ]
  },
  {
   "cell_type": "code",
   "execution_count": 6,
   "metadata": {},
   "outputs": [],
   "source": [
    "def highest_bit(n: int) -> int | None:\n",
    "    if not n: return None\n",
    "    bit = 0\n",
    "    while n:\n",
    "        n >>= 1\n",
    "        bit += 1\n",
    "    return bit-1"
   ]
  },
  {
   "cell_type": "code",
   "execution_count": 7,
   "metadata": {},
   "outputs": [
    {
     "name": "stdout",
     "output_type": "stream",
     "text": [
      "highest bit is z45\n"
     ]
    }
   ],
   "source": [
    "last_output = f\"z{highest_bit(output)}\"\n",
    "print(f\"highest bit is {last_output}\")"
   ]
  },
  {
   "cell_type": "code",
   "execution_count": 8,
   "metadata": {},
   "outputs": [],
   "source": [
    "usage = defaultdict(set)\n",
    "errors = []\n",
    "\n",
    "for (inp1, inp2, gate, _) in ops:\n",
    "    usage[(inp1)].add(gate)\n",
    "    usage[(inp2)].add(gate)\n",
    "\n",
    "for (inp1, inp2, gate, out) in ops:\n",
    "    if out == last_output:  # special case for highest bit\n",
    "        if inp1[0] == \"x\" or inp1[0] == \"y\" or inp2[0] == \"x\" or inp2[0] == \"y\" or gate != \"OR\":\n",
    "            errors.append(out)\n",
    "        continue\n",
    "\n",
    "    if out == \"z00\":        # special case for lowest bit\n",
    "        if sorted([inp1, inp2]) != [\"x00\", \"y00\"]: errors.append(out)\n",
    "        if gate != \"XOR\": errors.append(out)\n",
    "        continue\n",
    "\n",
    "    if inp1 == \"x00\" or inp1 == \"y00\" or inp2 == \"x00\" or inp2 == \"y00\":\n",
    "        if (inp1[0] == \"x\" and inp2[0] == \"y\") or (inp1[0] == \"y\" and inp2[0] == \"x\"):\n",
    "            if gate != \"XOR\" and gate != \"AND\": errors.append(out)\n",
    "        continue\n",
    "\n",
    "    if gate == \"XOR\":\n",
    "        if inp1[0] == \"x\" or inp1[0] == \"y\":\n",
    "            if inp2[0] != \"x\" and inp2[0] != \"y\": errors.append(out)\n",
    "            if out[0] == \"z\" and out != \"z00\": errors.append(out)\n",
    "            if out != \"z00\" and (\"AND\" not in usage[out] or \"XOR\" not in usage[out]):\n",
    "                errors.append(out)\n",
    "        elif out[0] != \"z\": errors.append(out)\n",
    "    \n",
    "    elif gate == \"OR\":\n",
    "        if inp1[0] == \"x\" or inp1[0] == \"y\" or inp2[0] == \"x\" or inp2[0] == \"y\" or out[0] == \"z\":\n",
    "            errors.append(out)\n",
    "        if \"AND\" not in usage[out] or \"XOR\" not in usage[out]:\n",
    "            errors.append(out)\n",
    "    \n",
    "    elif gate == \"AND\":\n",
    "        if inp1[0] == \"x\" or inp1[0] == \"y\":\n",
    "            if inp2[0] != \"x\" and inp2[0] != \"y\": errors.append(out)\n",
    "        if \"OR\" not in usage[out]:\n",
    "            errors.append(out)"
   ]
  },
  {
   "cell_type": "code",
   "execution_count": 9,
   "metadata": {},
   "outputs": [
    {
     "name": "stdout",
     "output_type": "stream",
     "text": [
      "djg,dsd,hjm,mcq,sbg,z12,z19,z37\n"
     ]
    }
   ],
   "source": [
    "errors = sorted(list(set(errors)))\n",
    "assert len(errors) == 8, f\"expected 8 values but got {len(errors)}\"\n",
    "\n",
    "for i in range(len(errors)):\n",
    "    if i == len(errors)-1: print(errors[i])\n",
    "    else: print(errors[i], end=\",\")"
   ]
  }
 ],
 "metadata": {
  "kernelspec": {
   "display_name": "Python 3",
   "language": "python",
   "name": "python3"
  },
  "language_info": {
   "codemirror_mode": {
    "name": "ipython",
    "version": 3
   },
   "file_extension": ".py",
   "mimetype": "text/x-python",
   "name": "python",
   "nbconvert_exporter": "python",
   "pygments_lexer": "ipython3",
   "version": "3.12.1"
  }
 },
 "nbformat": 4,
 "nbformat_minor": 2
}
