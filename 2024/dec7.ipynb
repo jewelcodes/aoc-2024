{
 "cells": [
  {
   "cell_type": "markdown",
   "metadata": {},
   "source": [
    "# Dec 7 – Problem 1"
   ]
  },
  {
   "cell_type": "code",
   "execution_count": 1,
   "metadata": {},
   "outputs": [],
   "source": [
    "import itertools\n",
    "\n",
    "with open(\"inputs/dec7.txt\") as f:\n",
    "    raw_data = f.read()"
   ]
  },
  {
   "cell_type": "code",
   "execution_count": 2,
   "metadata": {},
   "outputs": [],
   "source": [
    "def permutate_operators(count: int) -> list:\n",
    "    ls = list(itertools.product([0, 1], repeat=count))\n",
    "    return [list(e) for e in ls]"
   ]
  },
  {
   "cell_type": "code",
   "execution_count": 3,
   "metadata": {},
   "outputs": [],
   "source": [
    "def check_line(line: str) -> int:\n",
    "    expected = int(line.split(\":\")[0])\n",
    "    values = [int(x) for x in line.split(\": \")[1].split(\" \")]\n",
    "    operators = permutate_operators(len(values)-1)\n",
    "\n",
    "    for operator in operators:\n",
    "        result = values[0]\n",
    "        for i in range(1, len(values)):\n",
    "            if operator[i-1] == 0: result += values[i]\n",
    "            else: result *= values[i]\n",
    "        if result == expected: return expected\n",
    "\n",
    "    return 0"
   ]
  },
  {
   "cell_type": "code",
   "execution_count": 4,
   "metadata": {},
   "outputs": [],
   "source": [
    "sum = 0\n",
    "for line in raw_data.split(\"\\n\"):\n",
    "    sum += check_line(line)"
   ]
  },
  {
   "cell_type": "code",
   "execution_count": 5,
   "metadata": {},
   "outputs": [
    {
     "name": "stdout",
     "output_type": "stream",
     "text": [
      "1153997401072\n"
     ]
    }
   ],
   "source": [
    "print(sum)"
   ]
  },
  {
   "cell_type": "markdown",
   "metadata": {},
   "source": [
    "# Dec 7 – Problem 2"
   ]
  },
  {
   "cell_type": "code",
   "execution_count": 6,
   "metadata": {},
   "outputs": [],
   "source": [
    "def permutate_concat(count: int) -> list:\n",
    "    ls = list(itertools.product([0, 1, 2], repeat=count))\n",
    "    return [list(e) for e in ls]"
   ]
  },
  {
   "cell_type": "code",
   "execution_count": 7,
   "metadata": {},
   "outputs": [],
   "source": [
    "def check_line_concat(line: str) -> int:\n",
    "    expected = int(line.split(\":\")[0])\n",
    "    values = [int(x) for x in line.split(\": \")[1].split(\" \")]\n",
    "    operators = permutate_concat(len(values)-1)\n",
    "\n",
    "    for operator in operators:\n",
    "        result = values[0]\n",
    "        for i in range(1, len(values)):\n",
    "            if operator[i-1] == 0: result += values[i]\n",
    "            elif operator[i-1] == 1: result = int(str(result) + str(values[i]))\n",
    "            else: result *= values[i]\n",
    "        if result == expected: return expected\n",
    "\n",
    "    return 0"
   ]
  },
  {
   "cell_type": "code",
   "execution_count": 8,
   "metadata": {},
   "outputs": [],
   "source": [
    "sum = 0\n",
    "for line in raw_data.split(\"\\n\"):\n",
    "    value = check_line(line)\n",
    "    if value: sum += value\n",
    "    else: sum += check_line_concat(line)"
   ]
  },
  {
   "cell_type": "code",
   "execution_count": 9,
   "metadata": {},
   "outputs": [
    {
     "name": "stdout",
     "output_type": "stream",
     "text": [
      "97902809384118\n"
     ]
    }
   ],
   "source": [
    "print(sum)"
   ]
  }
 ],
 "metadata": {
  "kernelspec": {
   "display_name": "Python 3",
   "language": "python",
   "name": "python3"
  },
  "language_info": {
   "codemirror_mode": {
    "name": "ipython",
    "version": 3
   },
   "file_extension": ".py",
   "mimetype": "text/x-python",
   "name": "python",
   "nbconvert_exporter": "python",
   "pygments_lexer": "ipython3",
   "version": "3.12.1"
  }
 },
 "nbformat": 4,
 "nbformat_minor": 2
}
