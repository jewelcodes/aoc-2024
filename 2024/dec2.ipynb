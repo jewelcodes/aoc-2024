{
 "cells": [
  {
   "cell_type": "markdown",
   "metadata": {},
   "source": [
    "# Dec 2 - Problem 1"
   ]
  },
  {
   "cell_type": "code",
   "execution_count": 1,
   "metadata": {},
   "outputs": [],
   "source": [
    "with open(\"inputs/dec2.txt\") as f:\n",
    "    raw_data = f.read()"
   ]
  },
  {
   "cell_type": "code",
   "execution_count": 2,
   "metadata": {},
   "outputs": [],
   "source": [
    "safe_count = 0\n",
    "\n",
    "for report in raw_data.split(\"\\n\"):\n",
    "    levels = [int(level) for level in report.split(\" \")]\n",
    "    diff_safe = False\n",
    "\n",
    "    for i in range(len(levels)-1):\n",
    "        diff = abs(levels[i] - levels[i+1])\n",
    "        if diff < 1 or diff > 3:\n",
    "            diff_safe = False\n",
    "            break\n",
    "        else: diff_safe = True\n",
    "\n",
    "    if not diff_safe: continue\n",
    "    if levels[0] > levels[-1]:\n",
    "        if levels == sorted(levels, reverse=True):\n",
    "            safe_count += 1\n",
    "    elif levels == sorted(levels):\n",
    "        safe_count += 1"
   ]
  },
  {
   "cell_type": "code",
   "execution_count": 3,
   "metadata": {},
   "outputs": [
    {
     "name": "stdout",
     "output_type": "stream",
     "text": [
      "314\n"
     ]
    }
   ],
   "source": [
    "print(safe_count)"
   ]
  },
  {
   "cell_type": "markdown",
   "metadata": {},
   "source": [
    "# Dec 2 - Problem 2"
   ]
  },
  {
   "cell_type": "code",
   "execution_count": 4,
   "metadata": {},
   "outputs": [],
   "source": [
    "safe_count = 0\n",
    "\n",
    "def dampen(l: list, removal: int) -> bool:\n",
    "    levels = l.copy()\n",
    "\n",
    "    if removal > 0:\n",
    "        del levels[removal-1]\n",
    "\n",
    "    for i in range(len(levels)-1):\n",
    "        diff = abs(levels[i] - levels[i+1])\n",
    "        if diff < 1 or diff > 3: return False\n",
    "\n",
    "    if levels[0] > levels[-1]:\n",
    "        return levels == sorted(levels, reverse=True)\n",
    "    return levels == sorted(levels)\n",
    "\n",
    "for report in raw_data.split(\"\\n\"):\n",
    "    levels = [int(level) for level in report.split(\" \")]\n",
    "    \n",
    "    for i in range(len(levels)+1):\n",
    "        if dampen(levels, i):\n",
    "            safe_count += 1\n",
    "            break"
   ]
  },
  {
   "cell_type": "code",
   "execution_count": 5,
   "metadata": {},
   "outputs": [
    {
     "name": "stdout",
     "output_type": "stream",
     "text": [
      "373\n"
     ]
    }
   ],
   "source": [
    "print(safe_count)"
   ]
  }
 ],
 "metadata": {
  "kernelspec": {
   "display_name": "Python 3",
   "language": "python",
   "name": "python3"
  },
  "language_info": {
   "codemirror_mode": {
    "name": "ipython",
    "version": 3
   },
   "file_extension": ".py",
   "mimetype": "text/x-python",
   "name": "python",
   "nbconvert_exporter": "python",
   "pygments_lexer": "ipython3",
   "version": "3.12.1"
  }
 },
 "nbformat": 4,
 "nbformat_minor": 2
}
