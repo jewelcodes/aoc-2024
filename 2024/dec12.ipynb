{
 "cells": [
  {
   "cell_type": "markdown",
   "metadata": {},
   "source": [
    "# Dec 12 – Problem 1"
   ]
  },
  {
   "cell_type": "code",
   "execution_count": 1,
   "metadata": {},
   "outputs": [],
   "source": [
    "with open(\"inputs/dec12.txt\") as f:\n",
    "    raw_data = f.read()"
   ]
  },
  {
   "cell_type": "code",
   "execution_count": 2,
   "metadata": {},
   "outputs": [],
   "source": [
    "width = len(raw_data.split(\"\\n\")[0])\n",
    "pitch = width+1\n",
    "height = len(raw_data.split(\"\\n\"))\n",
    "map = [c for c in raw_data]"
   ]
  },
  {
   "cell_type": "code",
   "execution_count": 3,
   "metadata": {},
   "outputs": [],
   "source": [
    "def get_cell(coords: tuple) -> str:\n",
    "    x, y = coords\n",
    "    if x < 0 or x >= width or y < 0 or y >= height:\n",
    "        return None\n",
    "    return map[(y*pitch)+x]"
   ]
  },
  {
   "cell_type": "code",
   "execution_count": 4,
   "metadata": {},
   "outputs": [],
   "source": [
    "def get_surround(coords: tuple) -> dict:\n",
    "    x, y = coords\n",
    "    d = dict()\n",
    "    for dy in range(-1,2,2):\n",
    "        c = get_cell((x, y+dy))\n",
    "        if c is not None: d[(x, y+dy)] = c\n",
    "    for dx in range(-1,2,2):\n",
    "        c = get_cell((x+dx, y))\n",
    "        if c is not None: d[(x+dx, y)] = c\n",
    "    \n",
    "    return d"
   ]
  },
  {
   "cell_type": "code",
   "execution_count": 5,
   "metadata": {},
   "outputs": [],
   "source": [
    "visited_coords = []\n",
    "\n",
    "def isolate_region(coords: tuple) -> list:\n",
    "    global visited_coords\n",
    "\n",
    "    if coords in visited_coords: return []\n",
    "\n",
    "    def isolate(coords: tuple, plant: str) -> list:\n",
    "        ls = []\n",
    "\n",
    "        if coords not in visited_coords:\n",
    "            visited_coords.append(coords)\n",
    "            ls.append(coords)\n",
    "\n",
    "        surround = get_surround(coords)\n",
    "        for k, v in surround.items():\n",
    "            if k in visited_coords: continue\n",
    "            if v == plant:\n",
    "                ls.append(k)\n",
    "                visited_coords.append(k)\n",
    "                ls += isolate(k, plant)\n",
    "        \n",
    "        return ls\n",
    "\n",
    "    return isolate(coords, get_cell(coords))"
   ]
  },
  {
   "cell_type": "code",
   "execution_count": 6,
   "metadata": {},
   "outputs": [],
   "source": [
    "regions = []\n",
    "for y in range(height):\n",
    "    for x in range(width):\n",
    "        region = isolate_region((x, y))\n",
    "        if len(region) != 0: regions.append(region)"
   ]
  },
  {
   "cell_type": "code",
   "execution_count": 7,
   "metadata": {},
   "outputs": [],
   "source": [
    "def perimeter(region: list[tuple]) -> int:\n",
    "    sum = 0\n",
    "    for x, y in region:\n",
    "        surround = [(x+dx, y) for dx in range(-1,2,2)]\n",
    "        surround += [(x, y+dy) for dy in range(-1,2,2)]\n",
    "        cell_perim = 4 - len(set(surround).intersection(set(region)))\n",
    "        sum += cell_perim\n",
    "    \n",
    "    return sum"
   ]
  },
  {
   "cell_type": "code",
   "execution_count": 8,
   "metadata": {},
   "outputs": [
    {
     "name": "stdout",
     "output_type": "stream",
     "text": [
      "1431316\n"
     ]
    }
   ],
   "source": [
    "sum = 0\n",
    "for region in regions:\n",
    "    sum += len(region) * perimeter(region)\n",
    "\n",
    "print(sum)"
   ]
  },
  {
   "cell_type": "markdown",
   "metadata": {},
   "source": [
    "# Dec 12 – Problem 2"
   ]
  },
  {
   "cell_type": "code",
   "execution_count": 9,
   "metadata": {},
   "outputs": [],
   "source": [
    "def corners(region: list) -> int:\n",
    "    count = 0\n",
    "\n",
    "    for x, y in region:\n",
    "        up = (x, y-1) in region\n",
    "        left = (x-1, y) in region\n",
    "        right = (x+1, y) in region\n",
    "        down = (x, y+1) in region\n",
    "\n",
    "        up_left = (x-1, y-1) in region\n",
    "        up_right = (x+1, y-1) in region\n",
    "        down_left = (x-1, y+1) in region\n",
    "        down_right = (x+1, y+1) in region\n",
    "\n",
    "        # this is the ugliest fucking code i have ever written\n",
    "        if up and right and not up_right: count += 1\n",
    "        if up and left and not up_left: count += 1\n",
    "        if down and right and not down_right: count += 1\n",
    "        if down and left and not down_left: count += 1\n",
    "        if not (up or right): count += 1\n",
    "        if not (up or left): count += 1\n",
    "        if not (down or right): count += 1\n",
    "        if not (down or left): count += 1\n",
    "\n",
    "    return count"
   ]
  },
  {
   "cell_type": "code",
   "execution_count": 10,
   "metadata": {},
   "outputs": [],
   "source": [
    "sum = 0\n",
    "for region in regions:\n",
    "    sum += len(region) * corners(region)"
   ]
  },
  {
   "cell_type": "code",
   "execution_count": 11,
   "metadata": {},
   "outputs": [
    {
     "name": "stdout",
     "output_type": "stream",
     "text": [
      "821428\n"
     ]
    }
   ],
   "source": [
    "print(sum)"
   ]
  }
 ],
 "metadata": {
  "kernelspec": {
   "display_name": "Python 3",
   "language": "python",
   "name": "python3"
  },
  "language_info": {
   "codemirror_mode": {
    "name": "ipython",
    "version": 3
   },
   "file_extension": ".py",
   "mimetype": "text/x-python",
   "name": "python",
   "nbconvert_exporter": "python",
   "pygments_lexer": "ipython3",
   "version": "3.12.1"
  }
 },
 "nbformat": 4,
 "nbformat_minor": 2
}
