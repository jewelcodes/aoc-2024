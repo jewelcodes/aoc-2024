{
 "cells": [
  {
   "cell_type": "markdown",
   "metadata": {},
   "source": [
    "# Dec 6 – Problem 1"
   ]
  },
  {
   "cell_type": "code",
   "execution_count": 1,
   "metadata": {},
   "outputs": [],
   "source": [
    "with open(\"inputs/dec6.txt\") as f:\n",
    "    raw_data = f.read()"
   ]
  },
  {
   "cell_type": "code",
   "execution_count": 2,
   "metadata": {},
   "outputs": [],
   "source": [
    "width = len(raw_data.split(\"\\n\")[0])\n",
    "pitch = width+1\n",
    "height = len(raw_data.split(\"\\n\"))"
   ]
  },
  {
   "cell_type": "code",
   "execution_count": 3,
   "metadata": {},
   "outputs": [],
   "source": [
    "UP = 0\n",
    "RIGHT = 1\n",
    "DOWN = 2\n",
    "LEFT = 3\n",
    "\n",
    "direction = UP\n",
    "guard = (int(raw_data.index(\"^\") % pitch), int(raw_data.index(\"^\") / pitch))\n",
    "initial_guard = guard\n",
    "map = [c for c in raw_data]\n",
    "obstacles = []"
   ]
  },
  {
   "cell_type": "code",
   "execution_count": 4,
   "metadata": {},
   "outputs": [],
   "source": [
    "def get_map_cell(coords: tuple):\n",
    "    x, y = coords\n",
    "    if x < 0 or x >= width or y < 0 or y >= height: return None\n",
    "    return map[(y * pitch) + x]"
   ]
  },
  {
   "cell_type": "code",
   "execution_count": 5,
   "metadata": {},
   "outputs": [],
   "source": [
    "def mark_visited(coords: tuple) -> int:\n",
    "    global map, visited\n",
    "    x, y = coords\n",
    "    map[(y * pitch) + x] = \"X\"\n",
    "    if coords in visited:\n",
    "        visited[coords][direction] += 1\n",
    "    else:\n",
    "        visited[coords] = [0] * 4\n",
    "        visited[coords][direction] += 1\n",
    "    \n",
    "    return visited[coords][direction]"
   ]
  },
  {
   "cell_type": "code",
   "execution_count": 6,
   "metadata": {},
   "outputs": [],
   "source": [
    "def step() -> bool:\n",
    "    global guard, direction\n",
    "    x, y = guard\n",
    "    if direction == UP: y -= 1\n",
    "    elif direction == DOWN: y += 1\n",
    "    elif direction == LEFT: x -= 1\n",
    "    elif direction == RIGHT: x += 1\n",
    "    \n",
    "    if x < 0 or x >= width or y < 0 or y >= height:\n",
    "        return False\n",
    "    \n",
    "    coords = (x, y)\n",
    "    if get_map_cell(coords) == \"#\":  # obstacle\n",
    "        direction = (direction+1) % 4\n",
    "        obstacle = {}\n",
    "        obstacle[\"coords\"] = coords\n",
    "        obstacle[\"direction\"] = direction\n",
    "        obstacles.append(obstacle)\n",
    "        return step()\n",
    "\n",
    "    mark_visited(guard)\n",
    "    guard = coords\n",
    "    mark_visited(guard)\n",
    "\n",
    "    return True"
   ]
  },
  {
   "cell_type": "code",
   "execution_count": 7,
   "metadata": {},
   "outputs": [],
   "source": [
    "visited = {}\n",
    "while step(): pass"
   ]
  },
  {
   "cell_type": "code",
   "execution_count": 8,
   "metadata": {},
   "outputs": [
    {
     "name": "stdout",
     "output_type": "stream",
     "text": [
      "4580\n"
     ]
    }
   ],
   "source": [
    "count = map.count(\"X\")\n",
    "print(count)"
   ]
  },
  {
   "cell_type": "markdown",
   "metadata": {},
   "source": [
    "# Dec 6 – Problem 2"
   ]
  },
  {
   "cell_type": "code",
   "execution_count": 9,
   "metadata": {},
   "outputs": [],
   "source": [
    "def step_safe() -> int:     # returns 0 if map completed, 1 if step taken, 2 if looping\n",
    "    global guard, direction\n",
    "    x, y = guard\n",
    "    if direction == UP: y -= 1\n",
    "    elif direction == DOWN: y += 1\n",
    "    elif direction == LEFT: x -= 1\n",
    "    elif direction == RIGHT: x += 1\n",
    "    else: raise ValueError(f\"undefined direction value {direction}\")\n",
    "    \n",
    "    if x < 0 or x >= width or y < 0 or y >= height:\n",
    "        return 0\n",
    "    \n",
    "    coords = (x, y)\n",
    "    if get_map_cell(coords) == \"#\":  # obstacle\n",
    "        direction = (direction+1) % 4\n",
    "        return step_safe()\n",
    "\n",
    "    mark_visited(guard)\n",
    "    guard = coords\n",
    "    if mark_visited(guard) > 2: return 2\n",
    "\n",
    "    if '.' in map: return 1\n",
    "    return 2"
   ]
  },
  {
   "cell_type": "code",
   "execution_count": 10,
   "metadata": {},
   "outputs": [],
   "source": [
    "def add_obstacle(coords:tuple, chr=\"#\"):\n",
    "    global map\n",
    "    x, y = coords\n",
    "\n",
    "    if x >= 0 and x < width and y >= 0 and y < height:\n",
    "        map[(y * pitch) + x] = chr"
   ]
  },
  {
   "cell_type": "code",
   "execution_count": 11,
   "metadata": {},
   "outputs": [],
   "source": [
    "valid_obstacles = []\n",
    "tried_obstacles = []\n",
    "\n",
    "for ob in visited.copy():\n",
    "    if ob in tried_obstacles: continue\n",
    "    tried_obstacles.append(ob)\n",
    "    visited = {}\n",
    "    guard = initial_guard\n",
    "    map = [c for c in raw_data]\n",
    "    direction = UP\n",
    "    add_obstacle(ob)\n",
    "\n",
    "    while True:\n",
    "        status = step_safe()\n",
    "        if status == 0: break\n",
    "        elif status == 2:\n",
    "            valid_obstacles.append(ob)\n",
    "            break"
   ]
  },
  {
   "cell_type": "code",
   "execution_count": 12,
   "metadata": {},
   "outputs": [
    {
     "name": "stdout",
     "output_type": "stream",
     "text": [
      "1480\n"
     ]
    }
   ],
   "source": [
    "count = len(set(valid_obstacles))\n",
    "print(count)"
   ]
  }
 ],
 "metadata": {
  "kernelspec": {
   "display_name": "Python 3",
   "language": "python",
   "name": "python3"
  },
  "language_info": {
   "codemirror_mode": {
    "name": "ipython",
    "version": 3
   },
   "file_extension": ".py",
   "mimetype": "text/x-python",
   "name": "python",
   "nbconvert_exporter": "python",
   "pygments_lexer": "ipython3",
   "version": "3.12.1"
  }
 },
 "nbformat": 4,
 "nbformat_minor": 2
}
