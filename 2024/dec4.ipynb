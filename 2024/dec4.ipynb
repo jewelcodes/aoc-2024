{
 "cells": [
  {
   "cell_type": "markdown",
   "metadata": {},
   "source": [
    "# Dec 4 – Problem 1"
   ]
  },
  {
   "cell_type": "code",
   "execution_count": 1,
   "metadata": {},
   "outputs": [],
   "source": [
    "with open(\"inputs/dec4.txt\") as f:\n",
    "    raw_data = f.read()\n",
    "\n",
    "file_size = len(raw_data)\n",
    "line_size = raw_data.index(\"\\n\") + 1"
   ]
  },
  {
   "cell_type": "code",
   "execution_count": 2,
   "metadata": {},
   "outputs": [],
   "source": [
    "def search(query: str) -> int:\n",
    "    n = 0\n",
    "    for i in range(len(raw_data)):\n",
    "        if query in raw_data[i:i+4]: n += 1\n",
    "        if raw_data[i] != query[0]: continue\n",
    "        if i <= (file_size - (3*line_size)):\n",
    "            if raw_data[i+line_size] == query[1] and raw_data[i+(2*line_size)] == query[2] \\\n",
    "            and raw_data[i+(3*line_size)] == query[3]:\n",
    "                n += 1\n",
    "\n",
    "        if i < (file_size - (3*(line_size+1))):\n",
    "            if raw_data[i+line_size+1] == query[1] and raw_data[i+(2*(line_size+1))] == query[2] \\\n",
    "            and raw_data[i+(3*(line_size+1))] == query[3]:\n",
    "                n += 1\n",
    "\n",
    "        if i < (file_size - (3*(line_size-1))):\n",
    "            if raw_data[i+line_size-1] == query[1] and raw_data[i+(2*(line_size-1))] == query[2] \\\n",
    "            and raw_data[i+(3*(line_size-1))] == query[3]:\n",
    "                n += 1\n",
    "\n",
    "    return n"
   ]
  },
  {
   "cell_type": "code",
   "execution_count": 3,
   "metadata": {},
   "outputs": [],
   "source": [
    "count = search(\"XMAS\")\n",
    "count += search(\"SAMX\")\n"
   ]
  },
  {
   "cell_type": "code",
   "execution_count": 4,
   "metadata": {},
   "outputs": [
    {
     "name": "stdout",
     "output_type": "stream",
     "text": [
      "2547\n"
     ]
    }
   ],
   "source": [
    "print(count)"
   ]
  },
  {
   "cell_type": "markdown",
   "metadata": {},
   "source": [
    "# Dec 4 – Problem 2"
   ]
  },
  {
   "cell_type": "code",
   "execution_count": 5,
   "metadata": {},
   "outputs": [],
   "source": [
    "count = 0\n",
    "for i in range(len(raw_data)):\n",
    "    if raw_data[i] == 'A':\n",
    "        if i < (line_size - 1) or i > (file_size - line_size + 1): continue\n",
    "\n",
    "        if raw_data[i-line_size-1] == 'M' and raw_data[i-line_size+1] == 'M':\n",
    "            if raw_data[i+line_size-1] == 'S' and raw_data[i+line_size+1] == 'S':\n",
    "                count += 1\n",
    "\n",
    "        if raw_data[i-line_size-1] == 'M' and raw_data[i-line_size+1] == 'S':\n",
    "            if raw_data[i+line_size-1] == 'M' and raw_data[i+line_size+1] == 'S':\n",
    "                count += 1\n",
    "        \n",
    "        if raw_data[i-line_size-1] == 'S' and raw_data[i-line_size+1] == 'S':\n",
    "            if raw_data[i+line_size-1] == 'M' and raw_data[i+line_size+1] == 'M':\n",
    "                count += 1\n",
    "        \n",
    "        if raw_data[i-line_size-1] == 'S' and raw_data[i-line_size+1] == 'M':\n",
    "            if raw_data[i+line_size-1] == 'S' and raw_data[i+line_size+1] == 'M':\n",
    "                count += 1"
   ]
  },
  {
   "cell_type": "code",
   "execution_count": 6,
   "metadata": {},
   "outputs": [
    {
     "name": "stdout",
     "output_type": "stream",
     "text": [
      "1939\n"
     ]
    }
   ],
   "source": [
    "print(count)"
   ]
  }
 ],
 "metadata": {
  "kernelspec": {
   "display_name": "Python 3",
   "language": "python",
   "name": "python3"
  },
  "language_info": {
   "codemirror_mode": {
    "name": "ipython",
    "version": 3
   },
   "file_extension": ".py",
   "mimetype": "text/x-python",
   "name": "python",
   "nbconvert_exporter": "python",
   "pygments_lexer": "ipython3",
   "version": "3.12.1"
  }
 },
 "nbformat": 4,
 "nbformat_minor": 2
}
