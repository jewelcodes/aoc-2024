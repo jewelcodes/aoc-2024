{
 "cells": [
  {
   "cell_type": "markdown",
   "metadata": {},
   "source": [
    "# Dec 9 – Problem 1"
   ]
  },
  {
   "cell_type": "code",
   "execution_count": 1,
   "metadata": {},
   "outputs": [],
   "source": [
    "with open(\"inputs/dec9.txt\") as f:\n",
    "    raw_data = f.read()"
   ]
  },
  {
   "cell_type": "code",
   "execution_count": 2,
   "metadata": {},
   "outputs": [],
   "source": [
    "disk_map = []\n",
    "count = 0\n",
    "for c in raw_data:\n",
    "    if count % 2:\n",
    "        for i in range(int(c)): disk_map.append(\".\")\n",
    "    else:\n",
    "        for i in range(int(c)): disk_map.append(str(int(count/2)))\n",
    "    count += 1\n",
    "\n",
    "initial_disk = disk_map.copy()"
   ]
  },
  {
   "cell_type": "code",
   "execution_count": 3,
   "metadata": {},
   "outputs": [],
   "source": [
    "right = len(disk_map)-1\n",
    "left = 0\n",
    "\n",
    "while right > left:\n",
    "    if disk_map[right] != \".\":\n",
    "        while disk_map[left] != \".\": left += 1\n",
    "\n",
    "        disk_map[left] = disk_map[right]\n",
    "        disk_map[right] = \".\"\n",
    "        left += 1\n",
    "\n",
    "    right -= 1"
   ]
  },
  {
   "cell_type": "code",
   "execution_count": 4,
   "metadata": {},
   "outputs": [],
   "source": [
    "checksum = 0\n",
    "for i in range(len(disk_map)):\n",
    "    if disk_map[i].isdigit(): checksum += i * int(disk_map[i])"
   ]
  },
  {
   "cell_type": "code",
   "execution_count": 5,
   "metadata": {},
   "outputs": [
    {
     "name": "stdout",
     "output_type": "stream",
     "text": [
      "6323641412437\n"
     ]
    }
   ],
   "source": [
    "print(checksum)"
   ]
  },
  {
   "cell_type": "markdown",
   "metadata": {},
   "source": [
    "# Dec 9 – Problem 2"
   ]
  },
  {
   "cell_type": "code",
   "execution_count": 6,
   "metadata": {},
   "outputs": [],
   "source": [
    "def find_blocks(disk: list, n: int) -> int:\n",
    "    count = 0\n",
    "    for i in range(len(disk)):\n",
    "        if disk[i] == '.':\n",
    "            count += 1\n",
    "            if count >= n: return i - count + 1\n",
    "        else: count = 0\n",
    "    \n",
    "    return -1"
   ]
  },
  {
   "cell_type": "code",
   "execution_count": 7,
   "metadata": {},
   "outputs": [],
   "source": [
    "disk_map = initial_disk.copy()\n",
    "right = len(disk_map)-1\n",
    "\n",
    "while right > 0:\n",
    "    if disk_map[right] != '.':\n",
    "        file_id = disk_map[right]\n",
    "        size = 0\n",
    "        while disk_map[right] == file_id:\n",
    "            size += 1\n",
    "            right -= 1\n",
    "        \n",
    "        if right <= 0: break\n",
    "\n",
    "        left = find_blocks(disk_map, size)\n",
    "        if left < 0 or left > right: continue\n",
    "\n",
    "        for i in range(size):\n",
    "            disk_map[left+i] = disk_map[right+i+1]\n",
    "            disk_map[right+i+1] = \".\"\n",
    "\n",
    "    else:\n",
    "        right -= 1"
   ]
  },
  {
   "cell_type": "code",
   "execution_count": 8,
   "metadata": {},
   "outputs": [],
   "source": [
    "checksum = 0\n",
    "for i in range(len(disk_map)):\n",
    "    if disk_map[i].isdigit(): checksum += i * int(disk_map[i])"
   ]
  },
  {
   "cell_type": "code",
   "execution_count": 9,
   "metadata": {},
   "outputs": [
    {
     "name": "stdout",
     "output_type": "stream",
     "text": [
      "6351801932670\n"
     ]
    }
   ],
   "source": [
    "print(checksum)"
   ]
  }
 ],
 "metadata": {
  "kernelspec": {
   "display_name": "Python 3",
   "language": "python",
   "name": "python3"
  },
  "language_info": {
   "codemirror_mode": {
    "name": "ipython",
    "version": 3
   },
   "file_extension": ".py",
   "mimetype": "text/x-python",
   "name": "python",
   "nbconvert_exporter": "python",
   "pygments_lexer": "ipython3",
   "version": "3.12.1"
  }
 },
 "nbformat": 4,
 "nbformat_minor": 2
}
