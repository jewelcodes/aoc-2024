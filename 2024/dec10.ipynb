{
 "cells": [
  {
   "cell_type": "markdown",
   "metadata": {},
   "source": [
    "# Dec 10 – Problem 1"
   ]
  },
  {
   "cell_type": "code",
   "execution_count": 1,
   "metadata": {},
   "outputs": [],
   "source": [
    "with open(\"inputs/dec10.txt\") as f:\n",
    "    raw_data = f.read()"
   ]
  },
  {
   "cell_type": "code",
   "execution_count": 2,
   "metadata": {},
   "outputs": [],
   "source": [
    "width = len(raw_data.split(\"\\n\")[0])\n",
    "pitch = width+1\n",
    "height = len(raw_data.split(\"\\n\"))\n",
    "map = [c for c in raw_data]"
   ]
  },
  {
   "cell_type": "code",
   "execution_count": 3,
   "metadata": {},
   "outputs": [],
   "source": [
    "def get_cell(x: int, y: int) -> int:\n",
    "    if x < 0 or x >= width or y < 0 or y >= height:\n",
    "        return None\n",
    "    return int(map[(y * pitch) + x])"
   ]
  },
  {
   "cell_type": "code",
   "execution_count": 4,
   "metadata": {},
   "outputs": [],
   "source": [
    "def get_surroundings(coords: tuple) -> dict:\n",
    "    x, y = coords\n",
    "    d = dict()\n",
    "    for dy in range(-1,2,2):\n",
    "        c = get_cell(x, y+dy)\n",
    "        if c is not None: d[(x, y+dy)] = c\n",
    "    for dx in range(-1,2,2):\n",
    "        c = get_cell(x+dx, y)\n",
    "        if c is not None: d[(x+dx, y)] = c\n",
    "    \n",
    "    return d"
   ]
  },
  {
   "cell_type": "code",
   "execution_count": 5,
   "metadata": {},
   "outputs": [],
   "source": [
    "visited_peaks = []\n",
    "def count_peaks(start: tuple) -> int:\n",
    "    global visited_peaks\n",
    "    x, y = start\n",
    "    current = get_cell(x, y)\n",
    "    if current == 0: visited_peaks = []\n",
    "    surround = get_surroundings(start)\n",
    "    if len(surround) == 0: return -1\n",
    "\n",
    "    count = 0\n",
    "\n",
    "    for coord in surround:\n",
    "        if surround[coord] == 9 and current == 8:\n",
    "            if coord in visited_peaks: continue\n",
    "            count += 1\n",
    "            visited_peaks.append(coord)\n",
    "        elif surround[coord] == current+1:\n",
    "            step = count_peaks(coord)\n",
    "            if step != -1: count += step\n",
    "\n",
    "    return count if count else -1"
   ]
  },
  {
   "cell_type": "code",
   "execution_count": 6,
   "metadata": {},
   "outputs": [],
   "source": [
    "sum = 0\n",
    "for y in range(height):\n",
    "    for x in range(width):\n",
    "        if get_cell(x, y) != 0: continue\n",
    "        step = count_peaks((x, y))\n",
    "        if step != -1: sum += step"
   ]
  },
  {
   "cell_type": "code",
   "execution_count": 7,
   "metadata": {},
   "outputs": [
    {
     "name": "stdout",
     "output_type": "stream",
     "text": [
      "512\n"
     ]
    }
   ],
   "source": [
    "print(sum)"
   ]
  },
  {
   "cell_type": "markdown",
   "metadata": {},
   "source": [
    "# Dec 10 – Problem 2\n",
    "this is lowkey the laziest \"challenge\" i've ever seen wtf"
   ]
  },
  {
   "cell_type": "code",
   "execution_count": 8,
   "metadata": {},
   "outputs": [],
   "source": [
    "def count_paths(start: tuple) -> int:\n",
    "    x, y = start\n",
    "    current = get_cell(x, y)\n",
    "    surround = get_surroundings(start)\n",
    "    if len(surround) == 0: return -1\n",
    "\n",
    "    count = 0\n",
    "\n",
    "    for coord in surround:\n",
    "        if surround[coord] == 9 and current == 8:\n",
    "            count += 1\n",
    "        elif surround[coord] == current+1:\n",
    "            step = count_paths(coord)\n",
    "            if step != -1: count += step\n",
    "\n",
    "    return count if count else -1"
   ]
  },
  {
   "cell_type": "code",
   "execution_count": 9,
   "metadata": {},
   "outputs": [],
   "source": [
    "sum = 0\n",
    "for y in range(height):\n",
    "    for x in range(width):\n",
    "        if get_cell(x, y) != 0: continue\n",
    "        step = count_paths((x, y))\n",
    "        if step != -1: sum += step"
   ]
  },
  {
   "cell_type": "code",
   "execution_count": 10,
   "metadata": {},
   "outputs": [
    {
     "name": "stdout",
     "output_type": "stream",
     "text": [
      "1045\n"
     ]
    }
   ],
   "source": [
    "print(sum)"
   ]
  }
 ],
 "metadata": {
  "kernelspec": {
   "display_name": "Python 3",
   "language": "python",
   "name": "python3"
  },
  "language_info": {
   "codemirror_mode": {
    "name": "ipython",
    "version": 3
   },
   "file_extension": ".py",
   "mimetype": "text/x-python",
   "name": "python",
   "nbconvert_exporter": "python",
   "pygments_lexer": "ipython3",
   "version": "3.12.1"
  }
 },
 "nbformat": 4,
 "nbformat_minor": 2
}
