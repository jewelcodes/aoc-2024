{
 "cells": [
  {
   "cell_type": "markdown",
   "metadata": {},
   "source": [
    "# Dec 15 – Problem 1"
   ]
  },
  {
   "cell_type": "code",
   "execution_count": 35,
   "metadata": {},
   "outputs": [],
   "source": [
    "with open(\"inputs/dec15.txt\") as f:\n",
    "    raw_data = f.read()"
   ]
  },
  {
   "cell_type": "code",
   "execution_count": 36,
   "metadata": {},
   "outputs": [],
   "source": [
    "map = raw_data.split(\"\\n\\n\")[0]\n",
    "moves = raw_data.split(\"\\n\\n\")[1]\n",
    "width = len(map.split(\"\\n\")[0])\n",
    "pitch = width+1\n",
    "height = len(map.split(\"\\n\"))"
   ]
  },
  {
   "cell_type": "code",
   "execution_count": 37,
   "metadata": {},
   "outputs": [],
   "source": [
    "map = [c for c in map]\n",
    "moves = [c for c in moves if c != \"\\n\"]"
   ]
  },
  {
   "cell_type": "code",
   "execution_count": 38,
   "metadata": {},
   "outputs": [],
   "source": [
    "robot_x = map.index(\"@\") % pitch\n",
    "robot_y = map.index(\"@\") // pitch"
   ]
  },
  {
   "cell_type": "code",
   "execution_count": 39,
   "metadata": {},
   "outputs": [],
   "source": [
    "def get_cell(coords: tuple) -> str | None:\n",
    "    x, y = coords\n",
    "    if x < 0 or x >= width or y < 0 or y >= height:\n",
    "        return None\n",
    "    return map[y * pitch + x]"
   ]
  },
  {
   "cell_type": "code",
   "execution_count": 40,
   "metadata": {},
   "outputs": [],
   "source": [
    "def put_cell(coords: tuple, cell: str):\n",
    "    global map\n",
    "    x, y = coords\n",
    "    if x < 0 or x >= width or y < 0 or y >= height:\n",
    "        return\n",
    "    map[y * pitch + x] = cell"
   ]
  },
  {
   "cell_type": "code",
   "execution_count": 41,
   "metadata": {},
   "outputs": [],
   "source": [
    "def step(dir: str):\n",
    "    global robot_x, robot_y\n",
    "    if dir == \"<\": dx, dy = -1, 0\n",
    "    elif dir == \"^\":  dx, dy = 0, -1\n",
    "    elif dir == \">\": dx, dy = 1, 0\n",
    "    elif dir == \"v\": dx, dy = 0, 1\n",
    "\n",
    "    x, y = robot_x+dx, robot_y+dy\n",
    "    cell = get_cell((x, y))\n",
    "    if cell == \"#\": return\n",
    "    elif cell == \".\":\n",
    "        put_cell((robot_x, robot_y), \".\")\n",
    "        put_cell((x, y), \"@\")\n",
    "        robot_x, robot_y = x, y\n",
    "    elif cell == 'O':\n",
    "        ox, oy = x, y\n",
    "        while ox >= 1 and ox < width-1 and oy >= 1 and oy < height-1:\n",
    "            if get_cell((ox, oy)) == \"#\":\n",
    "                break\n",
    "            elif get_cell((ox, oy)) == \".\":\n",
    "                put_cell((ox, oy), \"O\")\n",
    "                put_cell((x, y), \"@\")\n",
    "                put_cell((robot_x, robot_y), \".\")\n",
    "                robot_x, robot_y = x, y\n",
    "                break\n",
    "            \n",
    "            ox += dx\n",
    "            oy += dy"
   ]
  },
  {
   "cell_type": "code",
   "execution_count": 42,
   "metadata": {},
   "outputs": [],
   "source": [
    "for move in moves:\n",
    "    step(move)"
   ]
  },
  {
   "cell_type": "code",
   "execution_count": 43,
   "metadata": {},
   "outputs": [
    {
     "name": "stdout",
     "output_type": "stream",
     "text": [
      "1485257\n"
     ]
    }
   ],
   "source": [
    "sum = 0\n",
    "for i in range(len(map)):\n",
    "    if map[i] == \"O\":\n",
    "        x, y = i % pitch, i // pitch\n",
    "        sum += 100 * y + x\n",
    "\n",
    "print(sum)"
   ]
  },
  {
   "cell_type": "markdown",
   "metadata": {},
   "source": [
    "# Dec 15 – Problem 2"
   ]
  },
  {
   "cell_type": "code",
   "execution_count": 44,
   "metadata": {},
   "outputs": [],
   "source": [
    "map = raw_data.split(\"\\n\\n\")[0]\n",
    "width = len(map.split(\"\\n\")[0]) * 2\n",
    "pitch = width+1\n",
    "height = len(map.split(\"\\n\"))"
   ]
  },
  {
   "cell_type": "code",
   "execution_count": 45,
   "metadata": {},
   "outputs": [],
   "source": [
    "map_ls = []\n",
    "for c in map:\n",
    "    if c == \"#\": map_ls += [\"#\", \"#\"]\n",
    "    elif c == \".\": map_ls += [\".\", \".\"]\n",
    "    elif c == \"O\": map_ls += [\"[\", \"]\"]\n",
    "    elif c == \"@\": map_ls += [\"@\", \".\"]\n",
    "    elif c == \"\\n\": map_ls += [\"\\n\"]\n",
    "\n",
    "map = map_ls"
   ]
  },
  {
   "cell_type": "code",
   "execution_count": 46,
   "metadata": {},
   "outputs": [],
   "source": [
    "robot_x = map.index(\"@\") % pitch\n",
    "robot_y = map.index(\"@\") // pitch"
   ]
  },
  {
   "cell_type": "code",
   "execution_count": 47,
   "metadata": {},
   "outputs": [],
   "source": [
    "def moveable(coords: tuple, dir: int) -> bool:\n",
    "    x, y = coords\n",
    "    if get_cell(coords) == \"]\": x -= 1\n",
    "    nx, ny = x, y+dir\n",
    "\n",
    "    c1, c2 = get_cell((nx, ny)), get_cell((nx+1, ny))\n",
    "    if c1 == \".\" and c2 == \".\": return True\n",
    "    elif c1 == \"#\" or c2 == \"#\": return False\n",
    "    elif c1 == \"[\" and c2 == \"]\": return moveable((nx, ny), dir)\n",
    "    elif c1 == \"]\" and c2 == \"[\": return moveable((nx-1, ny), dir) and moveable((nx+1, ny), dir)\n",
    "    elif c1 == \"]\" and c2 != \"[\": return moveable((nx-1, ny), dir)\n",
    "    elif c2 == \"[\" and c1 != \"]\": return moveable((nx+1, ny), dir)\n",
    "\n",
    "    return False"
   ]
  },
  {
   "cell_type": "code",
   "execution_count": 48,
   "metadata": {},
   "outputs": [],
   "source": [
    "def push_vert(coords: tuple, dir: int) -> bool:\n",
    "    if not moveable(coords, dir): return False\n",
    "\n",
    "    x, y = coords\n",
    "    if get_cell(coords) == \"]\": x -= 1\n",
    "    nx, ny = x, y+dir\n",
    "\n",
    "    c1, c2 = get_cell((nx, ny)), get_cell((nx+1, ny))\n",
    "    if c1 == \"#\" or c2 == \"#\": return False\n",
    "    elif c1 == \".\" and c2 == \".\":\n",
    "        put_cell((nx, ny), \"[\")\n",
    "        put_cell((nx+1, ny), \"]\")\n",
    "        put_cell((x, y), \".\")\n",
    "        put_cell((x+1, y), \".\")\n",
    "        return True\n",
    "\n",
    "    elif c1 == \"[\" and c2 == \"]\":\n",
    "        cleared = push_vert((nx, ny), dir)\n",
    "    elif c1 == \"]\" and c2 == \"[\":\n",
    "        cleared = push_vert((nx-1, ny), dir) and push_vert((nx+1, ny), dir)\n",
    "    elif c1 == \"]\" and c2 != \"[\":\n",
    "        cleared = push_vert((nx-1, ny), dir)\n",
    "    elif c2 == \"[\" and c1 != \"]\":\n",
    "        cleared = push_vert((nx+1, ny), dir)\n",
    "\n",
    "    if cleared: return push_vert(coords, dir)\n",
    "    return False"
   ]
  },
  {
   "cell_type": "code",
   "execution_count": 49,
   "metadata": {},
   "outputs": [],
   "source": [
    "def step2(dir: str):\n",
    "    global robot_x, robot_y\n",
    "    if dir == \"<\": dx, dy = -1, 0\n",
    "    elif dir == \"^\": dx, dy = 0, -1\n",
    "    elif dir == \">\": dx, dy = 1, 0\n",
    "    elif dir == \"v\": dx, dy = 0, 1\n",
    "\n",
    "    x, y = robot_x+dx, robot_y+dy\n",
    "    cell = get_cell((x, y))\n",
    "\n",
    "    if cell == \"#\": return\n",
    "    elif cell == \".\":\n",
    "        put_cell((robot_x, robot_y), \".\")\n",
    "        put_cell((x, y), \"@\")\n",
    "        robot_x, robot_y = x, y\n",
    "    elif cell == \"[\" or cell == \"]\":\n",
    "        ox, oy = x, y\n",
    "        box_len = 0\n",
    "        while ox >= 1 and ox < width-1 and oy >= 1 and oy < height-1:\n",
    "            if get_cell((ox, oy)) == \"#\":\n",
    "                break\n",
    "            elif get_cell((ox, oy)) == \".\":\n",
    "                if dx != 0:\n",
    "                    for i in range(box_len):\n",
    "                        if i % 2:\n",
    "                            if dx > 0: put_cell((x + (i+1)*dx, oy), \"]\")\n",
    "                            else: put_cell((x + (i+1)*dx, oy), \"[\")\n",
    "                        else:\n",
    "                            if dx > 0: put_cell((x + (i+1)*dx, oy), \"[\")\n",
    "                            else: put_cell((x + (i+1)*dx, oy), \"]\")\n",
    "                else:\n",
    "                    if not push_vert((x, y), dy): break\n",
    "\n",
    "                put_cell((x, y), \"@\")\n",
    "                put_cell((robot_x, robot_y), \".\")\n",
    "                robot_x, robot_y = x, y\n",
    "                break\n",
    "            \n",
    "            box_len += 1\n",
    "            ox += dx\n",
    "            oy += dy"
   ]
  },
  {
   "cell_type": "code",
   "execution_count": 50,
   "metadata": {},
   "outputs": [],
   "source": [
    "for move in moves:\n",
    "    step2(move)"
   ]
  },
  {
   "cell_type": "code",
   "execution_count": 51,
   "metadata": {},
   "outputs": [
    {
     "name": "stdout",
     "output_type": "stream",
     "text": [
      "1475512\n"
     ]
    }
   ],
   "source": [
    "sum = 0\n",
    "for i in range(len(map)):\n",
    "    if map[i] == \"[\":\n",
    "        x, y = i % pitch, i // pitch\n",
    "        sum += 100 * y + x\n",
    "\n",
    "print(sum)"
   ]
  }
 ],
 "metadata": {
  "kernelspec": {
   "display_name": "Python 3",
   "language": "python",
   "name": "python3"
  },
  "language_info": {
   "codemirror_mode": {
    "name": "ipython",
    "version": 3
   },
   "file_extension": ".py",
   "mimetype": "text/x-python",
   "name": "python",
   "nbconvert_exporter": "python",
   "pygments_lexer": "ipython3",
   "version": "3.12.1"
  }
 },
 "nbformat": 4,
 "nbformat_minor": 2
}
